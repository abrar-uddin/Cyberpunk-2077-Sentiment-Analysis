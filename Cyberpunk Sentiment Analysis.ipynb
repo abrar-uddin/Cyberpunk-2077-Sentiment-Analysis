{
 "cells": [
  {
   "cell_type": "code",
   "execution_count": 9,
   "metadata": {},
   "outputs": [],
   "source": [
    "import sqlite3\n",
    "import pandas as pd"
   ]
  },
  {
   "cell_type": "code",
   "execution_count": 14,
   "metadata": {},
   "outputs": [],
   "source": [
    "db_conn = sqlite3.connect(\"Cyberpunk2077 YT Comments.db\")\n",
    "c = db_conn.cursor()\n",
    "\n",
    "input_file = \"comments.csv\"\n",
    "read_comments = pd.read_csv(input_file, lineterminator='\\n')\n",
    "read_comments.to_sql(\"COMMENTS\", db_conn, if_exists='append', index=False)"
   ]
  },
  {
   "cell_type": "code",
   "execution_count": 41,
   "metadata": {},
   "outputs": [],
   "source": [
    "df = pd.read_sql_query('SELECT text, author, likeCount FROM COMMENTS LIMIT 10', db_conn)"
   ]
  },
  {
   "cell_type": "code",
   "execution_count": 46,
   "metadata": {},
   "outputs": [
    {
     "data": {
      "text/html": [
       "<div>\n",
       "<style scoped>\n",
       "    .dataframe tbody tr th:only-of-type {\n",
       "        vertical-align: middle;\n",
       "    }\n",
       "\n",
       "    .dataframe tbody tr th {\n",
       "        vertical-align: top;\n",
       "    }\n",
       "\n",
       "    .dataframe thead th {\n",
       "        text-align: right;\n",
       "    }\n",
       "</style>\n",
       "<table border=\"1\" class=\"dataframe\">\n",
       "  <thead>\n",
       "    <tr style=\"text-align: right;\">\n",
       "      <th></th>\n",
       "      <th>text</th>\n",
       "      <th>author</th>\n",
       "      <th>likeCount</th>\n",
       "    </tr>\n",
       "  </thead>\n",
       "  <tbody>\n",
       "    <tr>\n",
       "      <th>0</th>\n",
       "      <td>This game are mix with the 80s and the future....</td>\n",
       "      <td>Brandon Brünious</td>\n",
       "      <td>0</td>\n",
       "    </tr>\n",
       "    <tr>\n",
       "      <th>1</th>\n",
       "      <td>29:02 \"Remember, these guys are really *shit* \"</td>\n",
       "      <td>The Mannequin</td>\n",
       "      <td>0</td>\n",
       "    </tr>\n",
       "    <tr>\n",
       "      <th>2</th>\n",
       "      <td>I would replay this game 100x 💯‼</td>\n",
       "      <td>RazeSwag Swag</td>\n",
       "      <td>1</td>\n",
       "    </tr>\n",
       "    <tr>\n",
       "      <th>3</th>\n",
       "      <td>So you could complete the game without killing...</td>\n",
       "      <td>RazeSwag Swag</td>\n",
       "      <td>1</td>\n",
       "    </tr>\n",
       "    <tr>\n",
       "      <th>4</th>\n",
       "      <td>After listening to this video, I'm wondering i...</td>\n",
       "      <td>Chris Shannon</td>\n",
       "      <td>0</td>\n",
       "    </tr>\n",
       "    <tr>\n",
       "      <th>5</th>\n",
       "      <td>Next level by CDPR, they even got Triss Merigo...</td>\n",
       "      <td>Crazozourus</td>\n",
       "      <td>0</td>\n",
       "    </tr>\n",
       "    <tr>\n",
       "      <th>6</th>\n",
       "      <td>Nothing special.</td>\n",
       "      <td>Lud Buhalov</td>\n",
       "      <td>0</td>\n",
       "    </tr>\n",
       "    <tr>\n",
       "      <th>7</th>\n",
       "      <td>you can never go wrong with rocky</td>\n",
       "      <td>Lorenzo Sanchez</td>\n",
       "      <td>0</td>\n",
       "    </tr>\n",
       "    <tr>\n",
       "      <th>8</th>\n",
       "      <td>It´s going to be one the best games of our cen...</td>\n",
       "      <td>Andi Batz</td>\n",
       "      <td>0</td>\n",
       "    </tr>\n",
       "    <tr>\n",
       "      <th>9</th>\n",
       "      <td>Why tf they r not releasing it in lockdown?</td>\n",
       "      <td>Yuvraj Sharma</td>\n",
       "      <td>0</td>\n",
       "    </tr>\n",
       "  </tbody>\n",
       "</table>\n",
       "</div>"
      ],
      "text/plain": [
       "                                                text            author  \\\n",
       "0  This game are mix with the 80s and the future....  Brandon Brünious   \n",
       "1    29:02 \"Remember, these guys are really *shit* \"     The Mannequin   \n",
       "2                   I would replay this game 100x 💯‼     RazeSwag Swag   \n",
       "3  So you could complete the game without killing...     RazeSwag Swag   \n",
       "4  After listening to this video, I'm wondering i...     Chris Shannon   \n",
       "5  Next level by CDPR, they even got Triss Merigo...       Crazozourus   \n",
       "6                                   Nothing special.       Lud Buhalov   \n",
       "7                  you can never go wrong with rocky   Lorenzo Sanchez   \n",
       "8  It´s going to be one the best games of our cen...         Andi Batz   \n",
       "9        Why tf they r not releasing it in lockdown?     Yuvraj Sharma   \n",
       "\n",
       "   likeCount  \n",
       "0          0  \n",
       "1          0  \n",
       "2          1  \n",
       "3          1  \n",
       "4          0  \n",
       "5          0  \n",
       "6          0  \n",
       "7          0  \n",
       "8          0  \n",
       "9          0  "
      ]
     },
     "execution_count": 46,
     "metadata": {},
     "output_type": "execute_result"
    }
   ],
   "source": [
    "df"
   ]
  },
  {
   "cell_type": "code",
   "execution_count": null,
   "metadata": {},
   "outputs": [],
   "source": []
  }
 ],
 "metadata": {
  "kernelspec": {
   "display_name": "Python [conda env:cyberpunk]",
   "language": "python",
   "name": "conda-env-cyberpunk-py"
  },
  "language_info": {
   "codemirror_mode": {
    "name": "ipython",
    "version": 3
   },
   "file_extension": ".py",
   "mimetype": "text/x-python",
   "name": "python",
   "nbconvert_exporter": "python",
   "pygments_lexer": "ipython3",
   "version": "3.8.3"
  }
 },
 "nbformat": 4,
 "nbformat_minor": 4
}
