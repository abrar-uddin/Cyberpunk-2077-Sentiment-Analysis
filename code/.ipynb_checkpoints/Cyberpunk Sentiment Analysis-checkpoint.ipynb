{
 "cells": [
  {
   "cell_type": "code",
   "execution_count": 177,
   "metadata": {
    "colab": {
     "base_uri": "https://localhost:8080/",
     "height": 102
    },
    "colab_type": "code",
    "id": "1J7wqCcElMiU",
    "outputId": "5ccac08b-44f9-44a5-84ff-4d463ba96447"
   },
   "outputs": [],
   "source": [
    "# Standard data manipulation/visualization libraries\n",
    "import pandas as pd\n",
    "import numpy as np\n",
    "import matplotlib.pyplot as plt\n",
    "%matplotlib inline\n",
    "import seaborn as sns\n",
    "sns.set()\n",
    "\n",
    "# Custom text cleaning tool\n",
    "import text_cleaner as cln\n",
    "\n",
    "# Word clound library tools\n",
    "from wordcloud import WordCloud, ImageColorGenerator\n",
    "from PIL import Image\n",
    "\n",
    "# Sentiment analysis libraries\n",
    "from textblob import TextBlob\n",
    "import flair\n",
    "\n",
    "# Interactive dashboard library\n",
    "import streamlit"
   ]
  },
  {
   "cell_type": "code",
   "execution_count": null,
   "metadata": {
    "colab": {},
    "colab_type": "code",
    "id": "7sCpFVQ-lMiW"
   },
   "outputs": [],
   "source": [
    "input_file = \"../data/comments.csv\"\n",
    "raw_comments = pd.read_csv(input_file, lineterminator='\\n')"
   ]
  },
  {
   "cell_type": "code",
   "execution_count": null,
   "metadata": {
    "colab": {},
    "colab_type": "code",
    "id": "TqPorqxllMic"
   },
   "outputs": [],
   "source": [
    "data = raw_comments.drop(['videoId', 'commentId', 'author'], axis=1)"
   ]
  },
  {
   "cell_type": "markdown",
   "metadata": {
    "colab_type": "text",
    "id": "1-HntkoflMie"
   },
   "source": [
    "# Preprocessing"
   ]
  },
  {
   "cell_type": "code",
   "execution_count": null,
   "metadata": {
    "colab": {},
    "colab_type": "code",
    "id": "1LvGTP-5lMie"
   },
   "outputs": [],
   "source": [
    "cleaner = cln.TextCleaner()\n",
    "cleaned_comments = cleaner.clean(data['text'].astype(str))"
   ]
  },
  {
   "cell_type": "code",
   "execution_count": null,
   "metadata": {
    "colab": {},
    "colab_type": "code",
    "id": "pc0JnpuAlMig"
   },
   "outputs": [],
   "source": [
    "cleaned_data = data.copy()\n",
    "cleaned_data['cleaned_comments'] = cleaned_comments"
   ]
  },
  {
   "cell_type": "code",
   "execution_count": null,
   "metadata": {
    "colab": {},
    "colab_type": "code",
    "id": "EUDCh9qnlMik"
   },
   "outputs": [],
   "source": [
    "cleaned_data.to_json('../data/cleaned_comments.csv')"
   ]
  },
  {
   "cell_type": "markdown",
   "metadata": {
    "colab_type": "text",
    "id": "NQAnbo82mTTd"
   },
   "source": [
    "# Sentiment Analysis"
   ]
  },
  {
   "cell_type": "code",
   "execution_count": null,
   "metadata": {
    "colab": {},
    "colab_type": "code",
    "id": "o0rPIO2Cmb0R"
   },
   "outputs": [],
   "source": [
    "sentiment_analysis = cleaned_data.copy()"
   ]
  },
  {
   "cell_type": "markdown",
   "metadata": {
    "colab_type": "text",
    "id": "rSeI_SFv0F4k"
   },
   "source": [
    "## TextBlob pre-trained model"
   ]
  },
  {
   "cell_type": "code",
   "execution_count": 82,
   "metadata": {
    "colab": {
     "base_uri": "https://localhost:8080/",
     "height": 34
    },
    "colab_type": "code",
    "id": "7CJrM14WlMis",
    "outputId": "effad3cc-7dbd-444e-b3fc-4ba15ce12291"
   },
   "outputs": [
    {
     "name": "stdout",
     "output_type": "stream",
     "text": [
      "{'positive': 53478, 'neutral': 78999, 'negative': 39304}\n"
     ]
    }
   ],
   "source": [
    "textblob_results = {\"positive\":0,\"neutral\":0,\"negative\":0}\n",
    "sentiment_polarity = []\n",
    "sentiment_subj = []\n",
    "for x in cleaned_data['cleaned_comments']: \n",
    "    res = TextBlob(x).sentiment\n",
    "    sentiment_polarity.append(res[0])\n",
    "    sentiment_subj.append(res[1])\n",
    "    if res[0] == 0.0: \n",
    "        textblob_results[\"neutral\"] +=1\n",
    "    elif res[0] > 0.0:\n",
    "        textblob_results[\"positive\"] +=1\n",
    "    else:\n",
    "        textblob_results[\"negative\"] +=1\n",
    "print(textblob_results)"
   ]
  },
  {
   "cell_type": "code",
   "execution_count": null,
   "metadata": {
    "colab": {
     "base_uri": "https://localhost:8080/",
     "height": 248
    },
    "colab_type": "code",
    "id": "s_6nmF5zlMit",
    "outputId": "6c2f2829-cc87-4fc3-903d-2fea30ae4639"
   },
   "outputs": [],
   "source": [
    "labels = textblob_results.keys()\n",
    "percentages = textblob_results.values()\n",
    "explode = (0.1, 0, 0)\n",
    "\n",
    "fig, ax = plt.subplots()\n",
    "ax.pie(percentages, explode=explode, labels=labels, autopct='%1.1f%%',\n",
    "        shadow=True, startangle=90)\n",
    "ax.axis('equal')\n",
    "\n",
    "plt.show()"
   ]
  },
  {
   "cell_type": "code",
   "execution_count": null,
   "metadata": {
    "colab": {},
    "colab_type": "code",
    "id": "GFKOaraMlMiv"
   },
   "outputs": [],
   "source": [
    "sentiment_analysis['textblob_polarity'] = sentiment_polarity\n",
    "sentiment_analysis['textblob_subjectivity'] = sentiment_subj"
   ]
  },
  {
   "cell_type": "markdown",
   "metadata": {
    "colab_type": "text",
    "id": "kUUPlATn0XXR"
   },
   "source": [
    "## Flair pre-built model"
   ]
  },
  {
   "cell_type": "code",
   "execution_count": null,
   "metadata": {
    "colab": {
     "base_uri": "https://localhost:8080/",
     "height": 200,
     "referenced_widgets": [
      "33a0c0533b374b98bc1f3520672826d3",
      "9395387566a44065afa3dd03f795f04c",
      "7711c0a11d5b40b69bc90e986dda64b8",
      "3257ddf0e88a475ebd7c1bc640e827bd",
      "500cf68a4f214f90a74136c4876c262e",
      "07f7bbda79f6486e8a720cacdc8a3231",
      "22a0f17b317640c2a2d02f837c4ead2f",
      "6d064b4fc0f94c3ea950a954871081db",
      "bb36c926198b4ad682ed723329f80459",
      "7a51b7917f0a4c3295fefb683a89d9a9",
      "a740e9e196f04213921a57ad159e724a",
      "0a923d3eca8f45f493d9fd7fcd9b5d48",
      "5672ef77ce6f47b8a4e6267eb4537ae6",
      "d96120202bf44eb2b77dad145425fe3a",
      "147d928b11ff46dab6f9f02bb52dab74",
      "83607020ce564a5498751231a73e2343"
     ]
    },
    "colab_type": "code",
    "id": "fmmj_8oNlMiz",
    "outputId": "a78527ac-c1a9-4edc-cc68-cc55b2d5a7c9"
   },
   "outputs": [],
   "source": [
    "flair_sentiment = flair.models.TextClassifier.load('en-sentiment')"
   ]
  },
  {
   "cell_type": "code",
   "execution_count": null,
   "metadata": {
    "colab": {
     "base_uri": "https://localhost:8080/",
     "height": 34
    },
    "colab_type": "code",
    "id": "k4TwK7vylMi0",
    "outputId": "7af7e912-6042-42ad-8cb8-327a63c99dc0"
   },
   "outputs": [],
   "source": [
    "flair_results = {\"positive\":0, \"negative\":0}\n",
    "sentiment_val = []\n",
    "sentiment_score = []\n",
    "for x in cleaned_data['cleaned_comments']: \n",
    "    sentiment = flair.data.Sentence(x)\n",
    "    flair_sentiment.predict(sentiment)\n",
    "    res = sentiment.labels\n",
    "    res = str(res[0]).replace('(', '').replace(')', '').split(' ')\n",
    "    sentiment_val.append(res[0])\n",
    "    sentiment_score.append(res[1])\n",
    "    if res[0] == \"POSITIVE\":\n",
    "        flair_results[\"positive\"] +=1\n",
    "    else:\n",
    "        flair_results[\"negative\"] +=1\n",
    "print(flair_results)"
   ]
  },
  {
   "cell_type": "code",
   "execution_count": null,
   "metadata": {
    "colab": {
     "base_uri": "https://localhost:8080/",
     "height": 248
    },
    "colab_type": "code",
    "id": "cO2lVFRblMi5",
    "outputId": "88388bab-55e7-4fd5-b4cb-cf5b4a9efec4"
   },
   "outputs": [],
   "source": [
    "labels = flair_results.keys()\n",
    "percentages = flair_results.values()\n",
    "explode = (0.1, 0)\n",
    "\n",
    "fig, ax = plt.subplots()\n",
    "ax.pie(percentages, explode=explode, labels=labels, autopct='%1.1f%%',\n",
    "        shadow=True, startangle=90)\n",
    "ax.axis('equal')\n",
    "\n",
    "plt.show()"
   ]
  },
  {
   "cell_type": "code",
   "execution_count": null,
   "metadata": {
    "colab": {},
    "colab_type": "code",
    "id": "ts0FYfzfzqeX"
   },
   "outputs": [],
   "source": [
    "sentiment_analysis['flair_sentiment'] = sentiment_val\n",
    "sentiment_analysis['flair_score'] = sentiment_score"
   ]
  },
  {
   "cell_type": "code",
   "execution_count": null,
   "metadata": {
    "colab": {},
    "colab_type": "code",
    "id": "VYqrwjQylMi2"
   },
   "outputs": [],
   "source": [
    "sentiment_analysis.to_json('../data/sentiment_analysis.csv')"
   ]
  },
  {
   "cell_type": "code",
   "execution_count": null,
   "metadata": {},
   "outputs": [],
   "source": [
    "model_results = pd.DataFrame()\n",
    "model_results = model_results.append(pd.DataFrame(data=[textblob_results.values()], columns=['positive', 'neutral', 'negative'], index=['textblob']))\n",
    "model_results = model_results.append(pd.DataFrame(data=[flair_results.values()], columns=['positive', 'negative'], index=['flair']))\n",
    "model_results.to_csv('../data/model_results.csv')"
   ]
  },
  {
   "cell_type": "markdown",
   "metadata": {
    "colab_type": "text",
    "id": "AHDSCtyBmFAW"
   },
   "source": [
    "# Data Visualization"
   ]
  },
  {
   "cell_type": "code",
   "execution_count": null,
   "metadata": {
    "colab": {},
    "colab_type": "code",
    "id": "2SjnazsalMil"
   },
   "outputs": [],
   "source": [
    "mask = np.array(Image.open('reeves.png'))"
   ]
  },
  {
   "cell_type": "code",
   "execution_count": null,
   "metadata": {
    "colab": {},
    "colab_type": "code",
    "id": "g5PN9ldKlMin"
   },
   "outputs": [],
   "source": [
    "words = ''\n",
    "for x in cleaned_data['cleaned_comments']:\n",
    "    words += \"\".join(str(x).strip(\"[]\").replace(\"'\", \"\").replace(\",\", \"\"))"
   ]
  },
  {
   "cell_type": "code",
   "execution_count": null,
   "metadata": {
    "colab": {},
    "colab_type": "code",
    "id": "ov5rIoGSlMio"
   },
   "outputs": [],
   "source": [
    "wordcloud = WordCloud(background_color=\"white\", max_words=10000, random_state=42, mask=mask).generate(words)"
   ]
  },
  {
   "cell_type": "code",
   "execution_count": null,
   "metadata": {
    "colab": {
     "base_uri": "https://localhost:8080/",
     "height": 640
    },
    "colab_type": "code",
    "id": "psAGb0qRlMiq",
    "outputId": "8079d1c1-4c42-4992-ed67-f3e278fa7c40"
   },
   "outputs": [],
   "source": [
    "image_colors = ImageColorGenerator(mask)\n",
    "plt.figure(figsize=[15,15])\n",
    "plt.imshow(wordcloud.recolor(color_func=image_colors), interpolation='bilinear')\n",
    "plt.axis(\"off\")\n",
    "plt.show()"
   ]
  },
  {
   "cell_type": "code",
   "execution_count": 197,
   "metadata": {},
   "outputs": [
    {
     "data": {
      "text/html": [
       "<div>\n",
       "<style scoped>\n",
       "    .dataframe tbody tr th:only-of-type {\n",
       "        vertical-align: middle;\n",
       "    }\n",
       "\n",
       "    .dataframe tbody tr th {\n",
       "        vertical-align: top;\n",
       "    }\n",
       "\n",
       "    .dataframe thead th {\n",
       "        text-align: right;\n",
       "    }\n",
       "</style>\n",
       "<table border=\"1\" class=\"dataframe\">\n",
       "  <thead>\n",
       "    <tr style=\"text-align: right;\">\n",
       "      <th></th>\n",
       "      <th>text</th>\n",
       "      <th>likeCount</th>\n",
       "      <th>publishedAt</th>\n",
       "      <th>cleaned_comments</th>\n",
       "      <th>textblob_polarity</th>\n",
       "      <th>textblob_subjectivity</th>\n",
       "      <th>flair_sentiment</th>\n",
       "      <th>flair_score</th>\n",
       "    </tr>\n",
       "  </thead>\n",
       "  <tbody>\n",
       "    <tr>\n",
       "      <th>0</th>\n",
       "      <td>This game are mix with the 80s and the future....</td>\n",
       "      <td>0</td>\n",
       "      <td>2020-05-25T10:59:01Z</td>\n",
       "      <td>[game, mix, future, uwu, thats, neat]</td>\n",
       "      <td>-0.200000</td>\n",
       "      <td>0.2625</td>\n",
       "      <td>POSITIVE</td>\n",
       "      <td>0.9821</td>\n",
       "    </tr>\n",
       "    <tr>\n",
       "      <th>1</th>\n",
       "      <td>29:02 \"Remember, these guys are really *shit* \"</td>\n",
       "      <td>0</td>\n",
       "      <td>2020-05-25T10:56:37Z</td>\n",
       "      <td>[remember, guy, really, shit]</td>\n",
       "      <td>-0.200000</td>\n",
       "      <td>0.8000</td>\n",
       "      <td>NEGATIVE</td>\n",
       "      <td>0.9993</td>\n",
       "    </tr>\n",
       "    <tr>\n",
       "      <th>2</th>\n",
       "      <td>I would replay this game 100x 💯‼</td>\n",
       "      <td>1</td>\n",
       "      <td>2020-05-25T10:19:23Z</td>\n",
       "      <td>[would, replay, game, x]</td>\n",
       "      <td>-0.400000</td>\n",
       "      <td>0.4000</td>\n",
       "      <td>NEGATIVE</td>\n",
       "      <td>0.7817</td>\n",
       "    </tr>\n",
       "    <tr>\n",
       "      <th>3</th>\n",
       "      <td>So you could complete the game without killing...</td>\n",
       "      <td>1</td>\n",
       "      <td>2020-05-25T10:18:57Z</td>\n",
       "      <td>[could, complete, game, without, killing, anyone]</td>\n",
       "      <td>-0.150000</td>\n",
       "      <td>0.4000</td>\n",
       "      <td>NEGATIVE</td>\n",
       "      <td>0.9934</td>\n",
       "    </tr>\n",
       "    <tr>\n",
       "      <th>4</th>\n",
       "      <td>After listening to this video, I'm wondering i...</td>\n",
       "      <td>0</td>\n",
       "      <td>2020-05-25T09:54:34Z</td>\n",
       "      <td>[listening, video, im, wondering, mod, music, ...</td>\n",
       "      <td>0.033333</td>\n",
       "      <td>0.6000</td>\n",
       "      <td>NEGATIVE</td>\n",
       "      <td>0.9955</td>\n",
       "    </tr>\n",
       "  </tbody>\n",
       "</table>\n",
       "</div>"
      ],
      "text/plain": [
       "                                                text  likeCount  \\\n",
       "0  This game are mix with the 80s and the future....          0   \n",
       "1    29:02 \"Remember, these guys are really *shit* \"          0   \n",
       "2                   I would replay this game 100x 💯‼          1   \n",
       "3  So you could complete the game without killing...          1   \n",
       "4  After listening to this video, I'm wondering i...          0   \n",
       "\n",
       "            publishedAt                                   cleaned_comments  \\\n",
       "0  2020-05-25T10:59:01Z              [game, mix, future, uwu, thats, neat]   \n",
       "1  2020-05-25T10:56:37Z                      [remember, guy, really, shit]   \n",
       "2  2020-05-25T10:19:23Z                           [would, replay, game, x]   \n",
       "3  2020-05-25T10:18:57Z  [could, complete, game, without, killing, anyone]   \n",
       "4  2020-05-25T09:54:34Z  [listening, video, im, wondering, mod, music, ...   \n",
       "\n",
       "   textblob_polarity  textblob_subjectivity flair_sentiment  flair_score  \n",
       "0          -0.200000                 0.2625        POSITIVE       0.9821  \n",
       "1          -0.200000                 0.8000        NEGATIVE       0.9993  \n",
       "2          -0.400000                 0.4000        NEGATIVE       0.7817  \n",
       "3          -0.150000                 0.4000        NEGATIVE       0.9934  \n",
       "4           0.033333                 0.6000        NEGATIVE       0.9955  "
      ]
     },
     "execution_count": 197,
     "metadata": {},
     "output_type": "execute_result"
    }
   ],
   "source": [
    "df = pd.read_json(\"../data/sentiment_analysis.csv\")\n",
    "\n",
    "df.head()"
   ]
  },
  {
   "cell_type": "markdown",
   "metadata": {},
   "source": [
    "### Optimizing the model results data frame"
   ]
  },
  {
   "cell_type": "code",
   "execution_count": 160,
   "metadata": {},
   "outputs": [
    {
     "data": {
      "text/html": [
       "<div>\n",
       "<style scoped>\n",
       "    .dataframe tbody tr th:only-of-type {\n",
       "        vertical-align: middle;\n",
       "    }\n",
       "\n",
       "    .dataframe tbody tr th {\n",
       "        vertical-align: top;\n",
       "    }\n",
       "\n",
       "    .dataframe thead th {\n",
       "        text-align: right;\n",
       "    }\n",
       "</style>\n",
       "<table border=\"1\" class=\"dataframe\">\n",
       "  <thead>\n",
       "    <tr style=\"text-align: right;\">\n",
       "      <th></th>\n",
       "      <th>textblob</th>\n",
       "      <th>flair</th>\n",
       "    </tr>\n",
       "  </thead>\n",
       "  <tbody>\n",
       "    <tr>\n",
       "      <th>0</th>\n",
       "      <td>53478.0</td>\n",
       "      <td>70402.0</td>\n",
       "    </tr>\n",
       "    <tr>\n",
       "      <th>1</th>\n",
       "      <td>78999.0</td>\n",
       "      <td>NaN</td>\n",
       "    </tr>\n",
       "    <tr>\n",
       "      <th>2</th>\n",
       "      <td>39304.0</td>\n",
       "      <td>101379.0</td>\n",
       "    </tr>\n",
       "  </tbody>\n",
       "</table>\n",
       "</div>"
      ],
      "text/plain": [
       "   textblob     flair\n",
       "0   53478.0   70402.0\n",
       "1   78999.0       NaN\n",
       "2   39304.0  101379.0"
      ]
     },
     "execution_count": 160,
     "metadata": {},
     "output_type": "execute_result"
    }
   ],
   "source": [
    "model_results = pd.read_csv('../data/model_results.csv')\n",
    "model_results"
   ]
  },
  {
   "cell_type": "code",
   "execution_count": 158,
   "metadata": {},
   "outputs": [
    {
     "data": {
      "text/html": [
       "<div>\n",
       "<style scoped>\n",
       "    .dataframe tbody tr th:only-of-type {\n",
       "        vertical-align: middle;\n",
       "    }\n",
       "\n",
       "    .dataframe tbody tr th {\n",
       "        vertical-align: top;\n",
       "    }\n",
       "\n",
       "    .dataframe thead th {\n",
       "        text-align: right;\n",
       "    }\n",
       "</style>\n",
       "<table border=\"1\" class=\"dataframe\">\n",
       "  <thead>\n",
       "    <tr style=\"text-align: right;\">\n",
       "      <th></th>\n",
       "      <th>textblob</th>\n",
       "      <th>flair</th>\n",
       "    </tr>\n",
       "  </thead>\n",
       "  <tbody>\n",
       "    <tr>\n",
       "      <th>positive</th>\n",
       "      <td>53478</td>\n",
       "      <td>70402</td>\n",
       "    </tr>\n",
       "    <tr>\n",
       "      <th>neutral</th>\n",
       "      <td>78999</td>\n",
       "      <td>NaN</td>\n",
       "    </tr>\n",
       "    <tr>\n",
       "      <th>negative</th>\n",
       "      <td>39304</td>\n",
       "      <td>101379</td>\n",
       "    </tr>\n",
       "  </tbody>\n",
       "</table>\n",
       "</div>"
      ],
      "text/plain": [
       "         textblob   flair\n",
       "positive    53478   70402\n",
       "neutral     78999     NaN\n",
       "negative    39304  101379"
      ]
     },
     "execution_count": 158,
     "metadata": {},
     "output_type": "execute_result"
    }
   ],
   "source": [
    "model_results = model_results.rename(columns={\"Unnamed: 0\":\"\"})\n",
    "model_results = model_results.T\n",
    "model_results.columns = model_results.iloc[0]\n",
    "model_results = model_results.drop(model_results.index[0])\n",
    "model_results"
   ]
  },
  {
   "cell_type": "code",
   "execution_count": 159,
   "metadata": {},
   "outputs": [],
   "source": [
    "model_results.to_csv('../data/model_results.csv', index=False)"
   ]
  },
  {
   "cell_type": "code",
   "execution_count": 162,
   "metadata": {},
   "outputs": [
    {
     "data": {
      "text/plain": [
       "array([<matplotlib.axes._subplots.AxesSubplot object at 0x000002128F369E50>,\n",
       "       <matplotlib.axes._subplots.AxesSubplot object at 0x000002128F35E760>],\n",
       "      dtype=object)"
      ]
     },
     "execution_count": 162,
     "metadata": {},
     "output_type": "execute_result"
    },
    {
     "data": {
      "image/png": "[encoded data removed]",
      "text/plain": [
       "<Figure size 720x720 with 2 Axes>"
      ]
     },
     "metadata": {},
     "output_type": "display_data"
    }
   ],
   "source": [
    "model_results.plot.pie(subplots=True, figsize=(10, 10))"
   ]
  },
  {
   "cell_type": "markdown",
   "metadata": {},
   "source": [
    "## Likes"
   ]
  },
  {
   "cell_type": "code",
   "execution_count": 26,
   "metadata": {},
   "outputs": [],
   "source": [
    "top_10_liked = df.sort_values(by=['likeCount'], ascending=False).head(10)"
   ]
  },
  {
   "cell_type": "code",
   "execution_count": 31,
   "metadata": {
    "scrolled": true
   },
   "outputs": [
    {
     "name": "stdout",
     "output_type": "stream",
     "text": [
      "*Top 10 liked comments*\n",
      "\n",
      "Like Count: 36240\n",
      "*May contain content inappropriate for children*\n",
      "\n",
      "Well the ones who saw the teaser back then aren't kids anymore\n",
      "\n",
      "text_blob: 0.0\n",
      "flair: NEGATIVE\n",
      "-------------------------------------------------------------------------------\n",
      "Like Count: 30947\n",
      "This game will kill all interaction I have with humans for weeks...thankyou\n",
      "\n",
      "text_blob: -0.2\n",
      "flair: NEGATIVE\n",
      "-------------------------------------------------------------------------------\n",
      "Like Count: 20818\n",
      "“A futuristic game that takes place in the year 2077”\n",
      "\n",
      "*Actually comes out in 2077*\n",
      "\n",
      "text_blob: -0.2\n",
      "flair: POSITIVE\n",
      "-------------------------------------------------------------------------------\n",
      "Like Count: 17737\n",
      "I almost wish I didn't know about this, because now the wait is going to be so painful...\n",
      "\n",
      "text_blob: -0.7000000000000001\n",
      "flair: NEGATIVE\n",
      "-------------------------------------------------------------------------------\n",
      "Like Count: 17266\n",
      "EA: Singleplayer is dead. \n",
      "Singleplayers: EA is dead.\n",
      "\n",
      "text_blob: -0.2\n",
      "flair: NEGATIVE\n",
      "-------------------------------------------------------------------------------\n",
      "Like Count: 16220\n",
      "funny how the entire premise of watchdogs is just a playstyle option in this game\n",
      "\n",
      "text_blob: -0.05\n",
      "flair: NEGATIVE\n",
      "-------------------------------------------------------------------------------\n",
      "Like Count: 15988\n",
      "If you listen carefully, you can hear EA employees crying in the background.\n",
      "\n",
      "text_blob: -0.1\n",
      "flair: NEGATIVE\n",
      "-------------------------------------------------------------------------------\n",
      "Like Count: 14463\n",
      "2013 : teaser trailer\n",
      "2019 : Keanu Reeves \n",
      "2020 : open beta\n",
      "2077 : full release game\n",
      "\n",
      "text_blob: -0.0166666667\n",
      "flair: NEGATIVE\n",
      "-------------------------------------------------------------------------------\n",
      "Like Count: 14127\n",
      "Wake the Fook up Samurai, we have a RTX 3080ti to burn\n",
      "\n",
      "text_blob: 0.0\n",
      "flair: NEGATIVE\n",
      "-------------------------------------------------------------------------------\n",
      "Like Count: 13595\n",
      "EA now officially has gone to coma...\n",
      "\n",
      "text_blob: -0.1\n",
      "flair: NEGATIVE\n",
      "-------------------------------------------------------------------------------\n"
     ]
    }
   ],
   "source": [
    "print('*Top 10 liked comments*\\n')\n",
    "for c, l, t, f in zip(top_10_liked['text'], top_10_liked['likeCount'], top_10_liked['textblob_polarity'], top_10_liked['flair_sentiment']):\n",
    "    print('Like Count: ' + str(l))\n",
    "    print(c, end='\\n\\n')\n",
    "    print('text_blob: ' + str(t))\n",
    "    print('flair: ' + str(f), end='\\n-------------------------------------------------------------------------------\\n')"
   ]
  },
  {
   "cell_type": "code",
   "execution_count": 181,
   "metadata": {},
   "outputs": [
    {
     "data": {
      "text/plain": [
       "<matplotlib.axes._subplots.AxesSubplot at 0x212afbe87c0>"
      ]
     },
     "execution_count": 181,
     "metadata": {},
     "output_type": "execute_result"
    },
    {
     "data": {
      "image/png": "[encoded data removed]",
      "text/plain": [
       "<Figure size 432x288 with 1 Axes>"
      ]
     },
     "metadata": {},
     "output_type": "display_data"
    }
   ],
   "source": [
    "sns.distplot(df['likeCount'])"
   ]
  },
  {
   "cell_type": "markdown",
   "metadata": {},
   "source": [
    "## TextBlob"
   ]
  },
  {
   "cell_type": "code",
   "execution_count": 185,
   "metadata": {},
   "outputs": [],
   "source": [
    "top_10_textblob_pol_pos = df.sort_values(by=['textblob_polarity'], ascending=False).head(10)"
   ]
  },
  {
   "cell_type": "code",
   "execution_count": 191,
   "metadata": {},
   "outputs": [
    {
     "name": "stdout",
     "output_type": "stream",
     "text": [
      "*Top 10 TextBlob positive polarity sentiment*\n",
      "\n",
      "Like Count: 1\n",
      "Best part: NO BATTLE ROYALE...\n",
      "\n",
      "textblob_polarity: 1.0\n",
      "flair: POSITIVE\n",
      "-------------------------------------------------------------------------------\n",
      "Like Count: 0\n",
      "Anyone else got a boner watching this? This is going to be freaking awesome!\n",
      "\n",
      "textblob_polarity: 1.0\n",
      "flair: POSITIVE\n",
      "-------------------------------------------------------------------------------\n",
      "Like Count: 1\n",
      "*NO YOUR BREATHTAKING*\n",
      "\n",
      "textblob_polarity: 1.0\n",
      "flair: POSITIVE\n",
      "-------------------------------------------------------------------------------\n",
      "Like Count: 0\n",
      "Superb. 👍👍👍👍👍😁🍗👏💥\n",
      "\n",
      "textblob_polarity: 1.0\n",
      "flair: POSITIVE\n",
      "-------------------------------------------------------------------------------\n",
      "Like Count: 0\n",
      "2020 still the best thing on internet......ermygurd i luv cdpk\n",
      "\n",
      "textblob_polarity: 1.0\n",
      "flair: POSITIVE\n",
      "-------------------------------------------------------------------------------\n",
      "Like Count: 0\n",
      "This is sooo awesome!!! Well done CDRP! Now shut up and take my money :D\n",
      "\n",
      "textblob_polarity: 1.0\n",
      "flair: POSITIVE\n",
      "-------------------------------------------------------------------------------\n",
      "Like Count: 0\n",
      "PERFECT....\n",
      "\n",
      "textblob_polarity: 1.0\n",
      "flair: POSITIVE\n",
      "-------------------------------------------------------------------------------\n",
      "Like Count: 1\n",
      "KEANU REEVES, BEST SURPRISE EVER!\n",
      "\n",
      "textblob_polarity: 1.0\n",
      "flair: POSITIVE\n",
      "-------------------------------------------------------------------------------\n",
      "Like Count: 0\n",
      "and he busts out sayin, \"be excellent to each other\"\n",
      "\n",
      "textblob_polarity: 1.0\n",
      "flair: POSITIVE\n",
      "-------------------------------------------------------------------------------\n",
      "Like Count: 1\n",
      "That makes me breathtaking!!!!\n",
      "\n",
      "textblob_polarity: 1.0\n",
      "flair: POSITIVE\n",
      "-------------------------------------------------------------------------------\n"
     ]
    }
   ],
   "source": [
    "print('*Top 10 TextBlob positive polarity sentiment*\\n')\n",
    "for c, l, t, f in zip(top_10_textblob_pol_pos['text'], top_10_textblob_pol_pos['likeCount'], top_10_textblob_pol_pos['textblob_polarity'], top_10_textblob_pol_pos['flair_sentiment']):\n",
    "    print('Like Count: ' + str(l))\n",
    "    print(c, end='\\n\\n')\n",
    "    print('textblob_polarity: ' + str(t))\n",
    "    print('flair: ' + str(f), end='\\n-------------------------------------------------------------------------------\\n')"
   ]
  },
  {
   "cell_type": "code",
   "execution_count": 188,
   "metadata": {},
   "outputs": [],
   "source": [
    "top_10_textblob_pol_neg = df.sort_values(by=['textblob_polarity']).head(10)"
   ]
  },
  {
   "cell_type": "code",
   "execution_count": 192,
   "metadata": {},
   "outputs": [
    {
     "name": "stdout",
     "output_type": "stream",
     "text": [
      "*Top 10 TextBlob positive polarity sentiment*\n",
      "\n",
      "Like Count: 0\n",
      "I wish I could like this. It's boring, unimaginative, and feels unfinished. Vocals are being squeezed by the guitars, drowning them out.\n",
      "\n",
      "textblob_polarity: -1.0\n",
      "flair: NEGATIVE\n",
      "-------------------------------------------------------------------------------\n",
      "Like Count: 0\n",
      "Imagine how insane this would look Iif the RTX version was shown.\n",
      "\n",
      "textblob_polarity: -1.0\n",
      "flair: NEGATIVE\n",
      "-------------------------------------------------------------------------------\n",
      "Like Count: 0\n",
      "Looks fecking boring\n",
      "\n",
      "textblob_polarity: -1.0\n",
      "flair: NEGATIVE\n",
      "-------------------------------------------------------------------------------\n",
      "Like Count: 0\n",
      "The level of details is insane!!\n",
      "\n",
      "textblob_polarity: -1.0\n",
      "flair: NEGATIVE\n",
      "-------------------------------------------------------------------------------\n",
      "Like Count: 0\n",
      "After witcher 3 that looks boring... =/\n",
      "\n",
      "textblob_polarity: -1.0\n",
      "flair: NEGATIVE\n",
      "-------------------------------------------------------------------------------\n",
      "Like Count: 0\n",
      "the level of worldbuilding they've done is insane\n",
      "\n",
      "textblob_polarity: -1.0\n",
      "flair: NEGATIVE\n",
      "-------------------------------------------------------------------------------\n",
      "Like Count: 0\n",
      "boring\n",
      "\n",
      "textblob_polarity: -1.0\n",
      "flair: NEGATIVE\n",
      "-------------------------------------------------------------------------------\n",
      "Like Count: 1\n",
      "That is the most god awful ad I have ever seen!\n",
      "\n",
      "textblob_polarity: -1.0\n",
      "flair: NEGATIVE\n",
      "-------------------------------------------------------------------------------\n",
      "Like Count: 1\n",
      "Is the \"worst city in America\"  Detroit?\n",
      "\n",
      "textblob_polarity: -1.0\n",
      "flair: NEGATIVE\n",
      "-------------------------------------------------------------------------------\n",
      "Like Count: 1\n",
      "This song is so boring. I wish there was more punk in CyberPUNK 2077.\n",
      "\n",
      "textblob_polarity: -1.0\n",
      "flair: NEGATIVE\n",
      "-------------------------------------------------------------------------------\n"
     ]
    }
   ],
   "source": [
    "print('*Top 10 TextBlob positive polarity sentiment*\\n')\n",
    "for c, l, t, f in zip(top_10_textblob_pol_neg['text'], top_10_textblob_pol_neg['likeCount'], top_10_textblob_pol_neg['textblob_polarity'], top_10_textblob_pol_neg['flair_sentiment']):\n",
    "    print('Like Count: ' + str(l))\n",
    "    print(c, end='\\n\\n')\n",
    "    print('textblob_polarity: ' + str(t))\n",
    "    print('flair: ' + str(f), end='\\n-------------------------------------------------------------------------------\\n')"
   ]
  },
  {
   "cell_type": "code",
   "execution_count": 33,
   "metadata": {},
   "outputs": [
    {
     "data": {
      "text/plain": [
       "<matplotlib.axes._subplots.AxesSubplot at 0x2128565d1f0>"
      ]
     },
     "execution_count": 33,
     "metadata": {},
     "output_type": "execute_result"
    },
    {
     "data": {
      "image/png": "[encoded data removed]",
      "text/plain": [
       "<Figure size 432x288 with 1 Axes>"
      ]
     },
     "metadata": {},
     "output_type": "display_data"
    }
   ],
   "source": [
    "sns.distplot(df['textblob_polarity'])"
   ]
  },
  {
   "cell_type": "code",
   "execution_count": 189,
   "metadata": {},
   "outputs": [],
   "source": [
    "top_10_textblob_subj_pos = df.sort_values(by=['textblob_subjectivity'], ascending=False).head(10)"
   ]
  },
  {
   "cell_type": "code",
   "execution_count": 193,
   "metadata": {},
   "outputs": [
    {
     "name": "stdout",
     "output_type": "stream",
     "text": [
      "*Top 10 TextBlob positive polarity sentiment*\n",
      "\n",
      "Like Count: 0\n",
      "How to buy it in Ukraine? On your pre-order page it is impossible.\n",
      "\n",
      "textblob_subjectivity: 1.0\n",
      "flair: NEGATIVE\n",
      "-------------------------------------------------------------------------------\n",
      "Like Count: 0\n",
      "FINALLY A RELEASE DATE\n",
      "\n",
      "textblob_subjectivity: 1.0\n",
      "flair: POSITIVE\n",
      "-------------------------------------------------------------------------------\n",
      "Like Count: 0\n",
      "Now that's what you call Breathtaking!\n",
      "\n",
      "textblob_subjectivity: 1.0\n",
      "flair: POSITIVE\n",
      "-------------------------------------------------------------------------------\n",
      "Like Count: 0\n",
      "create a class tits are censored but then 4:48 wtf\n",
      "\n",
      "textblob_subjectivity: 1.0\n",
      "flair: NEGATIVE\n",
      "-------------------------------------------------------------------------------\n",
      "Like Count: 0\n",
      "WOW Keanu Reeves!\n",
      "\n",
      "textblob_subjectivity: 1.0\n",
      "flair: POSITIVE\n",
      "-------------------------------------------------------------------------------\n",
      "Like Count: 0\n",
      "i showed this to my dad\n",
      "\n",
      "\n",
      "\n",
      "\n",
      "\n",
      "\n",
      "now he's breathtaking\n",
      "\n",
      "textblob_subjectivity: 1.0\n",
      "flair: POSITIVE\n",
      "-------------------------------------------------------------------------------\n",
      "Like Count: 0\n",
      "Release In 2077 Confirmed\n",
      "\n",
      "textblob_subjectivity: 1.0\n",
      "flair: NEGATIVE\n",
      "-------------------------------------------------------------------------------\n",
      "Like Count: 0\n",
      "This is BREATHTAKING!\n",
      "\n",
      "textblob_subjectivity: 1.0\n",
      "flair: POSITIVE\n",
      "-------------------------------------------------------------------------------\n",
      "Like Count: 1\n",
      "We finally have a release date to get hyped for!!\n",
      "\n",
      "textblob_subjectivity: 1.0\n",
      "flair: NEGATIVE\n",
      "-------------------------------------------------------------------------------\n",
      "Like Count: 0\n",
      "Probably my favorite E3 moment.. ever ?\n",
      "\n",
      "textblob_subjectivity: 1.0\n",
      "flair: POSITIVE\n",
      "-------------------------------------------------------------------------------\n"
     ]
    }
   ],
   "source": [
    "print('*Top 10 TextBlob positive polarity sentiment*\\n')\n",
    "for c, l, t, f in zip(top_10_textblob_subj_pos['text'], top_10_textblob_subj_pos['likeCount'], top_10_textblob_subj_pos['textblob_subjectivity'], top_10_textblob_subj_pos['flair_sentiment']):\n",
    "    print('Like Count: ' + str(l))\n",
    "    print(c, end='\\n\\n')\n",
    "    print('textblob_subjectivity: ' + str(t))\n",
    "    print('flair: ' + str(f), end='\\n-------------------------------------------------------------------------------\\n')"
   ]
  },
  {
   "cell_type": "code",
   "execution_count": 194,
   "metadata": {},
   "outputs": [],
   "source": [
    "top_10_textblob_subj_neg = df.sort_values(by=['textblob_subjectivity']).head(10)"
   ]
  },
  {
   "cell_type": "code",
   "execution_count": 195,
   "metadata": {},
   "outputs": [
    {
     "name": "stdout",
     "output_type": "stream",
     "text": [
      "*Top 10 TextBlob positive polarity sentiment*\n",
      "\n",
      "Like Count: 0\n",
      "Опа , сиськи . Придется покупать .\n",
      "\n",
      "textblob_subjectivity: 0.0\n",
      "flair: POSITIVE\n",
      "-------------------------------------------------------------------------------\n",
      "Like Count: 2\n",
      "Its like ghost in the shell and apple seed\n",
      "\n",
      "textblob_subjectivity: 0.0\n",
      "flair: NEGATIVE\n",
      "-------------------------------------------------------------------------------\n",
      "Like Count: 2\n",
      "6.7K dislikes from [EA]\n",
      "\n",
      "textblob_subjectivity: 0.0\n",
      "flair: NEGATIVE\n",
      "-------------------------------------------------------------------------------\n",
      "Like Count: 1\n",
      "Квас - не кола, пей Николу )\n",
      "\n",
      "textblob_subjectivity: 0.0\n",
      "flair: POSITIVE\n",
      "-------------------------------------------------------------------------------\n",
      "Like Count: 1\n",
      "A subsribe how subsribe\n",
      "\n",
      "textblob_subjectivity: 0.0\n",
      "flair: NEGATIVE\n",
      "-------------------------------------------------------------------------------\n",
      "Like Count: 5\n",
      "take my money\n",
      "\n",
      "textblob_subjectivity: 0.0\n",
      "flair: NEGATIVE\n",
      "-------------------------------------------------------------------------------\n",
      "Like Count: 3\n",
      "man this looks so fing unreal! i want it! i NEED IT!\n",
      "\n",
      "textblob_subjectivity: 0.0\n",
      "flair: POSITIVE\n",
      "-------------------------------------------------------------------------------\n",
      "Like Count: 2\n",
      "0:52 это Антон Логвинов там сидит?!)))))\n",
      "\n",
      "textblob_subjectivity: 0.0\n",
      "flair: POSITIVE\n",
      "-------------------------------------------------------------------------------\n",
      "Like Count: 1\n",
      "43:10 Nanomachines...\n",
      "\n",
      "textblob_subjectivity: 0.0\n",
      "flair: NEGATIVE\n",
      "-------------------------------------------------------------------------------\n",
      "Like Count: 4\n",
      "это потрясающе\n",
      "с нетерпением жду\n",
      "\n",
      "textblob_subjectivity: 0.0\n",
      "flair: POSITIVE\n",
      "-------------------------------------------------------------------------------\n"
     ]
    }
   ],
   "source": [
    "print('*Top 10 TextBlob positive polarity sentiment*\\n')\n",
    "for c, l, t, f in zip(top_10_textblob_subj_neg['text'], top_10_textblob_subj_neg['likeCount'], top_10_textblob_subj_neg['textblob_subjectivity'], top_10_textblob_subj_neg['flair_sentiment']):\n",
    "    print('Like Count: ' + str(l))\n",
    "    print(c, end='\\n\\n')\n",
    "    print('textblob_subjectivity: ' + str(t))\n",
    "    print('flair: ' + str(f), end='\\n-------------------------------------------------------------------------------\\n')"
   ]
  },
  {
   "cell_type": "code",
   "execution_count": 165,
   "metadata": {},
   "outputs": [
    {
     "data": {
      "text/plain": [
       "<matplotlib.axes._subplots.AxesSubplot at 0x2128f3694f0>"
      ]
     },
     "execution_count": 165,
     "metadata": {},
     "output_type": "execute_result"
    },
    {
     "data": {
      "image/png": "[encoded data removed]",
      "text/plain": [
       "<Figure size 432x288 with 1 Axes>"
      ]
     },
     "metadata": {},
     "output_type": "display_data"
    }
   ],
   "source": [
    "sns.distplot(df['textblob_subjectivity'])"
   ]
  },
  {
   "cell_type": "markdown",
   "metadata": {},
   "source": [
    "## Flair"
   ]
  },
  {
   "cell_type": "code",
   "execution_count": 36,
   "metadata": {},
   "outputs": [
    {
     "data": {
      "text/html": [
       "<div>\n",
       "<style scoped>\n",
       "    .dataframe tbody tr th:only-of-type {\n",
       "        vertical-align: middle;\n",
       "    }\n",
       "\n",
       "    .dataframe tbody tr th {\n",
       "        vertical-align: top;\n",
       "    }\n",
       "\n",
       "    .dataframe thead th {\n",
       "        text-align: right;\n",
       "    }\n",
       "</style>\n",
       "<table border=\"1\" class=\"dataframe\">\n",
       "  <thead>\n",
       "    <tr style=\"text-align: right;\">\n",
       "      <th></th>\n",
       "      <th>text</th>\n",
       "      <th>likeCount</th>\n",
       "      <th>publishedAt</th>\n",
       "      <th>cleaned_comments</th>\n",
       "      <th>textblob_polarity</th>\n",
       "      <th>textblob_subjectivity</th>\n",
       "      <th>flair_sentiment</th>\n",
       "      <th>flair_score</th>\n",
       "    </tr>\n",
       "  </thead>\n",
       "  <tbody>\n",
       "    <tr>\n",
       "      <th>17437</th>\n",
       "      <td>I feel stuff like Dan Terminus, Petrurbator, C...</td>\n",
       "      <td>75</td>\n",
       "      <td>2019-12-13T03:21:39Z</td>\n",
       "      <td>[feel, stuff, like, dan, terminus, petrurbator...</td>\n",
       "      <td>0.666667</td>\n",
       "      <td>0.766667</td>\n",
       "      <td>POSITIVE</td>\n",
       "      <td>1.0000</td>\n",
       "    </tr>\n",
       "    <tr>\n",
       "      <th>35693</th>\n",
       "      <td>am i the only one who thinks that Samurai's ha...</td>\n",
       "      <td>0</td>\n",
       "      <td>2019-07-09T16:22:10Z</td>\n",
       "      <td>[one, think, samurai, hairstyle, weirdly, supe...</td>\n",
       "      <td>0.231250</td>\n",
       "      <td>0.587500</td>\n",
       "      <td>POSITIVE</td>\n",
       "      <td>1.0000</td>\n",
       "    </tr>\n",
       "    <tr>\n",
       "      <th>48609</th>\n",
       "      <td>The detail they put in what they do, the thing...</td>\n",
       "      <td>3</td>\n",
       "      <td>2019-06-11T21:42:26Z</td>\n",
       "      <td>[detail, put, thing, surprise, u, sound, music...</td>\n",
       "      <td>0.307143</td>\n",
       "      <td>0.450000</td>\n",
       "      <td>POSITIVE</td>\n",
       "      <td>1.0000</td>\n",
       "    </tr>\n",
       "    <tr>\n",
       "      <th>55241</th>\n",
       "      <td>The detail they put in what they do, the thing...</td>\n",
       "      <td>0</td>\n",
       "      <td>2019-06-10T14:12:43Z</td>\n",
       "      <td>[detail, put, thing, surprise, u, sound, music...</td>\n",
       "      <td>0.307143</td>\n",
       "      <td>0.450000</td>\n",
       "      <td>POSITIVE</td>\n",
       "      <td>1.0000</td>\n",
       "    </tr>\n",
       "    <tr>\n",
       "      <th>58822</th>\n",
       "      <td>At first God created Keanu Reeves and it was a...</td>\n",
       "      <td>41</td>\n",
       "      <td>2019-06-10T07:03:55Z</td>\n",
       "      <td>[first, god, created, keanu, reef, wa, awesome...</td>\n",
       "      <td>0.750000</td>\n",
       "      <td>0.777778</td>\n",
       "      <td>POSITIVE</td>\n",
       "      <td>1.0000</td>\n",
       "    </tr>\n",
       "    <tr>\n",
       "      <th>95150</th>\n",
       "      <td>This game is first person because you are supp...</td>\n",
       "      <td>0</td>\n",
       "      <td>2018-08-31T16:05:07Z</td>\n",
       "      <td>[game, first, person, supposed, playing, witch...</td>\n",
       "      <td>0.237500</td>\n",
       "      <td>0.458333</td>\n",
       "      <td>POSITIVE</td>\n",
       "      <td>1.0000</td>\n",
       "    </tr>\n",
       "    <tr>\n",
       "      <th>126248</th>\n",
       "      <td>You are not only paying respects to the origin...</td>\n",
       "      <td>0</td>\n",
       "      <td>2018-08-27T17:52:42Z</td>\n",
       "      <td>[paying, respect, original, nailed, live, see,...</td>\n",
       "      <td>0.258766</td>\n",
       "      <td>0.604762</td>\n",
       "      <td>POSITIVE</td>\n",
       "      <td>1.0000</td>\n",
       "    </tr>\n",
       "    <tr>\n",
       "      <th>156852</th>\n",
       "      <td>Waiting for someone who wouldn't mess with the...</td>\n",
       "      <td>0</td>\n",
       "      <td>2014-07-05T16:39:18Z</td>\n",
       "      <td>[waiting, someone, wouldnt, mess, base, materi...</td>\n",
       "      <td>0.006250</td>\n",
       "      <td>0.393750</td>\n",
       "      <td>POSITIVE</td>\n",
       "      <td>1.0000</td>\n",
       "    </tr>\n",
       "    <tr>\n",
       "      <th>1940</th>\n",
       "      <td>Folks, I have to say that original version of ...</td>\n",
       "      <td>1</td>\n",
       "      <td>2020-05-10T17:28:31Z</td>\n",
       "      <td>[folk, say, original, version, song, wa, best,...</td>\n",
       "      <td>0.687500</td>\n",
       "      <td>0.525000</td>\n",
       "      <td>POSITIVE</td>\n",
       "      <td>0.9999</td>\n",
       "    </tr>\n",
       "    <tr>\n",
       "      <th>4478</th>\n",
       "      <td>I thought it was a custom cyberpunk PC fully r...</td>\n",
       "      <td>0</td>\n",
       "      <td>2020-04-12T20:41:45Z</td>\n",
       "      <td>[thought, wa, custom, cyberpunk, pc, fully, re...</td>\n",
       "      <td>0.266667</td>\n",
       "      <td>0.633333</td>\n",
       "      <td>POSITIVE</td>\n",
       "      <td>0.9999</td>\n",
       "    </tr>\n",
       "  </tbody>\n",
       "</table>\n",
       "</div>"
      ],
      "text/plain": [
       "                                                     text  likeCount  \\\n",
       "17437   I feel stuff like Dan Terminus, Petrurbator, C...         75   \n",
       "35693   am i the only one who thinks that Samurai's ha...          0   \n",
       "48609   The detail they put in what they do, the thing...          3   \n",
       "55241   The detail they put in what they do, the thing...          0   \n",
       "58822   At first God created Keanu Reeves and it was a...         41   \n",
       "95150   This game is first person because you are supp...          0   \n",
       "126248  You are not only paying respects to the origin...          0   \n",
       "156852  Waiting for someone who wouldn't mess with the...          0   \n",
       "1940    Folks, I have to say that original version of ...          1   \n",
       "4478    I thought it was a custom cyberpunk PC fully r...          0   \n",
       "\n",
       "                 publishedAt  \\\n",
       "17437   2019-12-13T03:21:39Z   \n",
       "35693   2019-07-09T16:22:10Z   \n",
       "48609   2019-06-11T21:42:26Z   \n",
       "55241   2019-06-10T14:12:43Z   \n",
       "58822   2019-06-10T07:03:55Z   \n",
       "95150   2018-08-31T16:05:07Z   \n",
       "126248  2018-08-27T17:52:42Z   \n",
       "156852  2014-07-05T16:39:18Z   \n",
       "1940    2020-05-10T17:28:31Z   \n",
       "4478    2020-04-12T20:41:45Z   \n",
       "\n",
       "                                         cleaned_comments  textblob_polarity  \\\n",
       "17437   [feel, stuff, like, dan, terminus, petrurbator...           0.666667   \n",
       "35693   [one, think, samurai, hairstyle, weirdly, supe...           0.231250   \n",
       "48609   [detail, put, thing, surprise, u, sound, music...           0.307143   \n",
       "55241   [detail, put, thing, surprise, u, sound, music...           0.307143   \n",
       "58822   [first, god, created, keanu, reef, wa, awesome...           0.750000   \n",
       "95150   [game, first, person, supposed, playing, witch...           0.237500   \n",
       "126248  [paying, respect, original, nailed, live, see,...           0.258766   \n",
       "156852  [waiting, someone, wouldnt, mess, base, materi...           0.006250   \n",
       "1940    [folk, say, original, version, song, wa, best,...           0.687500   \n",
       "4478    [thought, wa, custom, cyberpunk, pc, fully, re...           0.266667   \n",
       "\n",
       "        textblob_subjectivity flair_sentiment  flair_score  \n",
       "17437                0.766667        POSITIVE       1.0000  \n",
       "35693                0.587500        POSITIVE       1.0000  \n",
       "48609                0.450000        POSITIVE       1.0000  \n",
       "55241                0.450000        POSITIVE       1.0000  \n",
       "58822                0.777778        POSITIVE       1.0000  \n",
       "95150                0.458333        POSITIVE       1.0000  \n",
       "126248               0.604762        POSITIVE       1.0000  \n",
       "156852               0.393750        POSITIVE       1.0000  \n",
       "1940                 0.525000        POSITIVE       0.9999  \n",
       "4478                 0.633333        POSITIVE       0.9999  "
      ]
     },
     "execution_count": 36,
     "metadata": {},
     "output_type": "execute_result"
    }
   ],
   "source": [
    "top_10_flair_pos = df.sort_values(by=['flair_sentiment', 'flair_score'], ascending=False).head(10)\n",
    "top_10_flair_pos"
   ]
  },
  {
   "cell_type": "code",
   "execution_count": 37,
   "metadata": {},
   "outputs": [
    {
     "data": {
      "text/html": [
       "<div>\n",
       "<style scoped>\n",
       "    .dataframe tbody tr th:only-of-type {\n",
       "        vertical-align: middle;\n",
       "    }\n",
       "\n",
       "    .dataframe tbody tr th {\n",
       "        vertical-align: top;\n",
       "    }\n",
       "\n",
       "    .dataframe thead th {\n",
       "        text-align: right;\n",
       "    }\n",
       "</style>\n",
       "<table border=\"1\" class=\"dataframe\">\n",
       "  <thead>\n",
       "    <tr style=\"text-align: right;\">\n",
       "      <th></th>\n",
       "      <th>text</th>\n",
       "      <th>likeCount</th>\n",
       "      <th>publishedAt</th>\n",
       "      <th>cleaned_comments</th>\n",
       "      <th>textblob_polarity</th>\n",
       "      <th>textblob_subjectivity</th>\n",
       "      <th>flair_sentiment</th>\n",
       "      <th>flair_score</th>\n",
       "    </tr>\n",
       "  </thead>\n",
       "  <tbody>\n",
       "    <tr>\n",
       "      <th>42211</th>\n",
       "      <td>I better have an option to wear a cop outfit l...</td>\n",
       "      <td>0</td>\n",
       "      <td>2019-06-23T05:27:30Z</td>\n",
       "      <td>[better, option, wear, cop, outfit, like, ingame]</td>\n",
       "      <td>0.500000</td>\n",
       "      <td>0.500000</td>\n",
       "      <td>NEGATIVE</td>\n",
       "      <td>0.5000</td>\n",
       "    </tr>\n",
       "    <tr>\n",
       "      <th>128874</th>\n",
       "      <td>V-TECHH</td>\n",
       "      <td>0</td>\n",
       "      <td>2018-06-22T07:15:48Z</td>\n",
       "      <td>[vtechh]</td>\n",
       "      <td>0.000000</td>\n",
       "      <td>0.000000</td>\n",
       "      <td>NEGATIVE</td>\n",
       "      <td>0.5000</td>\n",
       "    </tr>\n",
       "    <tr>\n",
       "      <th>14245</th>\n",
       "      <td>*HOT DÆMN!*</td>\n",
       "      <td>0</td>\n",
       "      <td>2019-12-19T17:14:12Z</td>\n",
       "      <td>[hot, dmn]</td>\n",
       "      <td>0.250000</td>\n",
       "      <td>0.850000</td>\n",
       "      <td>NEGATIVE</td>\n",
       "      <td>0.5001</td>\n",
       "    </tr>\n",
       "    <tr>\n",
       "      <th>63415</th>\n",
       "      <td>ja quero jogarrr</td>\n",
       "      <td>0</td>\n",
       "      <td>2019-06-10T00:45:35Z</td>\n",
       "      <td>[ja, quero, jogarrr]</td>\n",
       "      <td>0.000000</td>\n",
       "      <td>0.000000</td>\n",
       "      <td>NEGATIVE</td>\n",
       "      <td>0.5001</td>\n",
       "    </tr>\n",
       "    <tr>\n",
       "      <th>101151</th>\n",
       "      <td>Aliens made this game</td>\n",
       "      <td>0</td>\n",
       "      <td>2018-08-29T23:12:15Z</td>\n",
       "      <td>[alien, made, game]</td>\n",
       "      <td>-0.325000</td>\n",
       "      <td>0.575000</td>\n",
       "      <td>NEGATIVE</td>\n",
       "      <td>0.5001</td>\n",
       "    </tr>\n",
       "    <tr>\n",
       "      <th>141925</th>\n",
       "      <td>Shadowrun meets GTA.........\\nFinally!</td>\n",
       "      <td>0</td>\n",
       "      <td>2018-06-11T02:50:25Z</td>\n",
       "      <td>[shadowrun, meet, gtafinally]</td>\n",
       "      <td>0.000000</td>\n",
       "      <td>0.000000</td>\n",
       "      <td>NEGATIVE</td>\n",
       "      <td>0.5001</td>\n",
       "    </tr>\n",
       "    <tr>\n",
       "      <th>168856</th>\n",
       "      <td>Hidden message tells to wait for february 5th ...</td>\n",
       "      <td>0</td>\n",
       "      <td>2013-01-11T12:21:44Z</td>\n",
       "      <td>[hidden, message, tell, wait, february, th, th...</td>\n",
       "      <td>-0.188889</td>\n",
       "      <td>0.411111</td>\n",
       "      <td>NEGATIVE</td>\n",
       "      <td>0.5001</td>\n",
       "    </tr>\n",
       "    <tr>\n",
       "      <th>4599</th>\n",
       "      <td>41:00 aimbot be like</td>\n",
       "      <td>0</td>\n",
       "      <td>2020-04-11T06:32:17Z</td>\n",
       "      <td>[aimbot, like]</td>\n",
       "      <td>0.000000</td>\n",
       "      <td>0.000000</td>\n",
       "      <td>NEGATIVE</td>\n",
       "      <td>0.5002</td>\n",
       "    </tr>\n",
       "    <tr>\n",
       "      <th>29737</th>\n",
       "      <td>13:33 😂 wtf is that supposed to be Keanu Reeve...</td>\n",
       "      <td>0</td>\n",
       "      <td>2019-08-30T21:11:58Z</td>\n",
       "      <td>[wtf, supposed, keanu, reevesdisappointing]</td>\n",
       "      <td>-0.500000</td>\n",
       "      <td>1.000000</td>\n",
       "      <td>NEGATIVE</td>\n",
       "      <td>0.5002</td>\n",
       "    </tr>\n",
       "    <tr>\n",
       "      <th>109563</th>\n",
       "      <td>Why not give the players both a 1st and 3rd pl...</td>\n",
       "      <td>0</td>\n",
       "      <td>2018-08-28T17:39:38Z</td>\n",
       "      <td>[give, player, st, rd, player, option]</td>\n",
       "      <td>0.000000</td>\n",
       "      <td>0.000000</td>\n",
       "      <td>NEGATIVE</td>\n",
       "      <td>0.5002</td>\n",
       "    </tr>\n",
       "  </tbody>\n",
       "</table>\n",
       "</div>"
      ],
      "text/plain": [
       "                                                     text  likeCount  \\\n",
       "42211   I better have an option to wear a cop outfit l...          0   \n",
       "128874                                            V-TECHH          0   \n",
       "14245                                         *HOT DÆMN!*          0   \n",
       "63415                                    ja quero jogarrr          0   \n",
       "101151                              Aliens made this game          0   \n",
       "141925             Shadowrun meets GTA.........\\nFinally!          0   \n",
       "168856  Hidden message tells to wait for february 5th ...          0   \n",
       "4599                                 41:00 aimbot be like          0   \n",
       "29737   13:33 😂 wtf is that supposed to be Keanu Reeve...          0   \n",
       "109563  Why not give the players both a 1st and 3rd pl...          0   \n",
       "\n",
       "                 publishedAt  \\\n",
       "42211   2019-06-23T05:27:30Z   \n",
       "128874  2018-06-22T07:15:48Z   \n",
       "14245   2019-12-19T17:14:12Z   \n",
       "63415   2019-06-10T00:45:35Z   \n",
       "101151  2018-08-29T23:12:15Z   \n",
       "141925  2018-06-11T02:50:25Z   \n",
       "168856  2013-01-11T12:21:44Z   \n",
       "4599    2020-04-11T06:32:17Z   \n",
       "29737   2019-08-30T21:11:58Z   \n",
       "109563  2018-08-28T17:39:38Z   \n",
       "\n",
       "                                         cleaned_comments  textblob_polarity  \\\n",
       "42211   [better, option, wear, cop, outfit, like, ingame]           0.500000   \n",
       "128874                                           [vtechh]           0.000000   \n",
       "14245                                          [hot, dmn]           0.250000   \n",
       "63415                                [ja, quero, jogarrr]           0.000000   \n",
       "101151                                [alien, made, game]          -0.325000   \n",
       "141925                      [shadowrun, meet, gtafinally]           0.000000   \n",
       "168856  [hidden, message, tell, wait, february, th, th...          -0.188889   \n",
       "4599                                       [aimbot, like]           0.000000   \n",
       "29737         [wtf, supposed, keanu, reevesdisappointing]          -0.500000   \n",
       "109563             [give, player, st, rd, player, option]           0.000000   \n",
       "\n",
       "        textblob_subjectivity flair_sentiment  flair_score  \n",
       "42211                0.500000        NEGATIVE       0.5000  \n",
       "128874               0.000000        NEGATIVE       0.5000  \n",
       "14245                0.850000        NEGATIVE       0.5001  \n",
       "63415                0.000000        NEGATIVE       0.5001  \n",
       "101151               0.575000        NEGATIVE       0.5001  \n",
       "141925               0.000000        NEGATIVE       0.5001  \n",
       "168856               0.411111        NEGATIVE       0.5001  \n",
       "4599                 0.000000        NEGATIVE       0.5002  \n",
       "29737                1.000000        NEGATIVE       0.5002  \n",
       "109563               0.000000        NEGATIVE       0.5002  "
      ]
     },
     "execution_count": 37,
     "metadata": {},
     "output_type": "execute_result"
    }
   ],
   "source": [
    "top_10_flair_neg = df.sort_values(by=['flair_sentiment', 'flair_score']).head(10)\n",
    "top_10_flair_neg"
   ]
  },
  {
   "cell_type": "code",
   "execution_count": 63,
   "metadata": {},
   "outputs": [
    {
     "data": {
      "text/plain": [
       "<matplotlib.axes._subplots.AxesSubplot at 0x2128d15d520>"
      ]
     },
     "execution_count": 63,
     "metadata": {},
     "output_type": "execute_result"
    },
    {
     "data": {
      "image/png": "[encoded data removed]",
      "text/plain": [
       "<Figure size 432x288 with 1 Axes>"
      ]
     },
     "metadata": {},
     "output_type": "display_data"
    }
   ],
   "source": [
    "sns.distplot(df['flair_score'])"
   ]
  },
  {
   "cell_type": "markdown",
   "metadata": {},
   "source": [
    "## TextBlob vs Flair"
   ]
  },
  {
   "cell_type": "code",
   "execution_count": 123,
   "metadata": {},
   "outputs": [
    {
     "data": {
      "text/plain": [
       "<matplotlib.axes._subplots.AxesSubplot at 0x21285436160>"
      ]
     },
     "execution_count": 123,
     "metadata": {},
     "output_type": "execute_result"
    },
    {
     "data": {
      "image/png": "[encoded data removed]",
      "text/plain": [
       "<Figure size 432x288 with 1 Axes>"
      ]
     },
     "metadata": {},
     "output_type": "display_data"
    }
   ],
   "source": [
    "model_results.plot.bar(rot=0)"
   ]
  },
  {
   "cell_type": "markdown",
   "metadata": {},
   "source": [
    "## Comment Lengths"
   ]
  },
  {
   "cell_type": "code",
   "execution_count": 242,
   "metadata": {},
   "outputs": [],
   "source": [
    "comment_length = []\n",
    "for x in df['text']:\n",
    "    comment_length.append(len(str(x)))\n",
    "\n",
    "df['comment_length'] = comment_length"
   ]
  },
  {
   "cell_type": "code",
   "execution_count": 294,
   "metadata": {},
   "outputs": [
    {
     "data": {
      "text/plain": [
       "<matplotlib.axes._subplots.AxesSubplot at 0x212c764d370>"
      ]
     },
     "execution_count": 294,
     "metadata": {},
     "output_type": "execute_result"
    },
    {
     "data": {
      "image/png": "[encoded data removed]",
      "text/plain": [
       "<Figure size 432x288 with 1 Axes>"
      ]
     },
     "metadata": {},
     "output_type": "display_data"
    }
   ],
   "source": [
    "sns.distplot(df['comment_length'])"
   ]
  },
  {
   "cell_type": "code",
   "execution_count": 223,
   "metadata": {},
   "outputs": [],
   "source": [
    "df['comment_length'] = comment_length"
   ]
  },
  {
   "cell_type": "code",
   "execution_count": 226,
   "metadata": {},
   "outputs": [],
   "source": [
    "sort_by_comment_length = df.sort_values(by=['comment_length'], ascending=False).head(10)"
   ]
  },
  {
   "cell_type": "code",
   "execution_count": 232,
   "metadata": {},
   "outputs": [
    {
     "data": {
      "text/html": [
       "<div>\n",
       "<style scoped>\n",
       "    .dataframe tbody tr th:only-of-type {\n",
       "        vertical-align: middle;\n",
       "    }\n",
       "\n",
       "    .dataframe tbody tr th {\n",
       "        vertical-align: top;\n",
       "    }\n",
       "\n",
       "    .dataframe thead th {\n",
       "        text-align: right;\n",
       "    }\n",
       "</style>\n",
       "<table border=\"1\" class=\"dataframe\">\n",
       "  <thead>\n",
       "    <tr style=\"text-align: right;\">\n",
       "      <th></th>\n",
       "      <th>text</th>\n",
       "      <th>likeCount</th>\n",
       "      <th>publishedAt</th>\n",
       "      <th>cleaned_comments</th>\n",
       "      <th>textblob_polarity</th>\n",
       "      <th>textblob_subjectivity</th>\n",
       "      <th>flair_sentiment</th>\n",
       "      <th>flair_score</th>\n",
       "      <th>comment_length</th>\n",
       "    </tr>\n",
       "  </thead>\n",
       "  <tbody>\n",
       "    <tr>\n",
       "      <th>92375</th>\n",
       "      <td>AAAAAAAAAAAAAAAAAAAAAAAAAAAAAAAAAAAAAAAAAAAAAA...</td>\n",
       "      <td>0</td>\n",
       "      <td>2018-09-02T10:01:02Z</td>\n",
       "      <td>[aaaaaaaaaaaaaaaaaaaaaaaaaaaaaaaaaaaaaaaaaaaaa...</td>\n",
       "      <td>0.000000</td>\n",
       "      <td>0.000000</td>\n",
       "      <td>NEGATIVE</td>\n",
       "      <td>0.9777</td>\n",
       "      <td>10000</td>\n",
       "    </tr>\n",
       "    <tr>\n",
       "      <th>141771</th>\n",
       "      <td>Watch till  the end!!!\\nAAAAAAAAaaaaaaaaaa!!!!...</td>\n",
       "      <td>0</td>\n",
       "      <td>2018-06-11T03:16:23Z</td>\n",
       "      <td>[watch, till, endaaaaaaaaaaaaaaaaaaaaaaaaaaaaa...</td>\n",
       "      <td>0.000000</td>\n",
       "      <td>0.000000</td>\n",
       "      <td>NEGATIVE</td>\n",
       "      <td>0.9992</td>\n",
       "      <td>10000</td>\n",
       "    </tr>\n",
       "    <tr>\n",
       "      <th>117868</th>\n",
       "      <td>omg omg omg omg omg omg omg omg omg omg omg om...</td>\n",
       "      <td>49</td>\n",
       "      <td>2018-08-27T21:49:44Z</td>\n",
       "      <td>[omg, omg, omg, omg, omg, omg, omg, omg, omg, ...</td>\n",
       "      <td>0.000000</td>\n",
       "      <td>0.000000</td>\n",
       "      <td>NEGATIVE</td>\n",
       "      <td>0.6052</td>\n",
       "      <td>9999</td>\n",
       "    </tr>\n",
       "    <tr>\n",
       "      <th>32475</th>\n",
       "      <td>Just here to dislike bomb. If you haven't hear...</td>\n",
       "      <td>1</td>\n",
       "      <td>2019-08-28T02:37:09Z</td>\n",
       "      <td>[dislike, bomb, havent, heard, cdpr, sjw, dev,...</td>\n",
       "      <td>-0.333333</td>\n",
       "      <td>0.400000</td>\n",
       "      <td>NEGATIVE</td>\n",
       "      <td>0.9991</td>\n",
       "      <td>9372</td>\n",
       "    </tr>\n",
       "    <tr>\n",
       "      <th>32477</th>\n",
       "      <td>Just here to dislike bomb. If you haven't hear...</td>\n",
       "      <td>1</td>\n",
       "      <td>2019-08-28T02:36:57Z</td>\n",
       "      <td>[dislike, bomb, havent, heard, cdpr, sjw, dev,...</td>\n",
       "      <td>-0.333333</td>\n",
       "      <td>0.400000</td>\n",
       "      <td>NEGATIVE</td>\n",
       "      <td>0.9991</td>\n",
       "      <td>9364</td>\n",
       "    </tr>\n",
       "    <tr>\n",
       "      <th>34758</th>\n",
       "      <td>This ideas for you CD Project Red:\\n\\nFirst i ...</td>\n",
       "      <td>0</td>\n",
       "      <td>2019-07-28T14:17:46Z</td>\n",
       "      <td>[idea, cd, project, redfirst, give, another, c...</td>\n",
       "      <td>0.124722</td>\n",
       "      <td>0.523319</td>\n",
       "      <td>POSITIVE</td>\n",
       "      <td>0.7933</td>\n",
       "      <td>7991</td>\n",
       "    </tr>\n",
       "    <tr>\n",
       "      <th>5721</th>\n",
       "      <td>Hi Folks working on Cyberpunk 2077. Yes i've t...</td>\n",
       "      <td>0</td>\n",
       "      <td>2020-04-06T00:33:42Z</td>\n",
       "      <td>[hi, folk, working, cyberpunk, yes, ive, tried...</td>\n",
       "      <td>0.066009</td>\n",
       "      <td>0.460056</td>\n",
       "      <td>NEGATIVE</td>\n",
       "      <td>0.9986</td>\n",
       "      <td>6843</td>\n",
       "    </tr>\n",
       "    <tr>\n",
       "      <th>87211</th>\n",
       "      <td>Do not blindly enjoy ANY story-line of a dysto...</td>\n",
       "      <td>0</td>\n",
       "      <td>2018-10-06T00:50:45Z</td>\n",
       "      <td>[blindly, enjoy, storyline, dystopian, type, f...</td>\n",
       "      <td>0.109131</td>\n",
       "      <td>0.472398</td>\n",
       "      <td>NEGATIVE</td>\n",
       "      <td>0.9816</td>\n",
       "      <td>6320</td>\n",
       "    </tr>\n",
       "    <tr>\n",
       "      <th>32474</th>\n",
       "      <td>Just here to dislike bomb. If you haven't hear...</td>\n",
       "      <td>3</td>\n",
       "      <td>2019-08-28T02:37:15Z</td>\n",
       "      <td>[dislike, bomb, havent, heard, cdpr, sjw, dev,...</td>\n",
       "      <td>-0.333333</td>\n",
       "      <td>0.400000</td>\n",
       "      <td>NEGATIVE</td>\n",
       "      <td>0.9991</td>\n",
       "      <td>6248</td>\n",
       "    </tr>\n",
       "    <tr>\n",
       "      <th>51056</th>\n",
       "      <td>ourforgiveness.c*o*m \\n\"End Times\"\\nFriends, h...</td>\n",
       "      <td>0</td>\n",
       "      <td>2019-06-11T02:08:44Z</td>\n",
       "      <td>[ourforgivenesscom, end, timesfriends, harken,...</td>\n",
       "      <td>0.118127</td>\n",
       "      <td>0.490454</td>\n",
       "      <td>NEGATIVE</td>\n",
       "      <td>0.9255</td>\n",
       "      <td>5328</td>\n",
       "    </tr>\n",
       "  </tbody>\n",
       "</table>\n",
       "</div>"
      ],
      "text/plain": [
       "                                                     text  likeCount  \\\n",
       "92375   AAAAAAAAAAAAAAAAAAAAAAAAAAAAAAAAAAAAAAAAAAAAAA...          0   \n",
       "141771  Watch till  the end!!!\\nAAAAAAAAaaaaaaaaaa!!!!...          0   \n",
       "117868  omg omg omg omg omg omg omg omg omg omg omg om...         49   \n",
       "32475   Just here to dislike bomb. If you haven't hear...          1   \n",
       "32477   Just here to dislike bomb. If you haven't hear...          1   \n",
       "34758   This ideas for you CD Project Red:\\n\\nFirst i ...          0   \n",
       "5721    Hi Folks working on Cyberpunk 2077. Yes i've t...          0   \n",
       "87211   Do not blindly enjoy ANY story-line of a dysto...          0   \n",
       "32474   Just here to dislike bomb. If you haven't hear...          3   \n",
       "51056   ourforgiveness.c*o*m \\n\"End Times\"\\nFriends, h...          0   \n",
       "\n",
       "                 publishedAt  \\\n",
       "92375   2018-09-02T10:01:02Z   \n",
       "141771  2018-06-11T03:16:23Z   \n",
       "117868  2018-08-27T21:49:44Z   \n",
       "32475   2019-08-28T02:37:09Z   \n",
       "32477   2019-08-28T02:36:57Z   \n",
       "34758   2019-07-28T14:17:46Z   \n",
       "5721    2020-04-06T00:33:42Z   \n",
       "87211   2018-10-06T00:50:45Z   \n",
       "32474   2019-08-28T02:37:15Z   \n",
       "51056   2019-06-11T02:08:44Z   \n",
       "\n",
       "                                         cleaned_comments  textblob_polarity  \\\n",
       "92375   [aaaaaaaaaaaaaaaaaaaaaaaaaaaaaaaaaaaaaaaaaaaaa...           0.000000   \n",
       "141771  [watch, till, endaaaaaaaaaaaaaaaaaaaaaaaaaaaaa...           0.000000   \n",
       "117868  [omg, omg, omg, omg, omg, omg, omg, omg, omg, ...           0.000000   \n",
       "32475   [dislike, bomb, havent, heard, cdpr, sjw, dev,...          -0.333333   \n",
       "32477   [dislike, bomb, havent, heard, cdpr, sjw, dev,...          -0.333333   \n",
       "34758   [idea, cd, project, redfirst, give, another, c...           0.124722   \n",
       "5721    [hi, folk, working, cyberpunk, yes, ive, tried...           0.066009   \n",
       "87211   [blindly, enjoy, storyline, dystopian, type, f...           0.109131   \n",
       "32474   [dislike, bomb, havent, heard, cdpr, sjw, dev,...          -0.333333   \n",
       "51056   [ourforgivenesscom, end, timesfriends, harken,...           0.118127   \n",
       "\n",
       "        textblob_subjectivity flair_sentiment  flair_score  comment_length  \n",
       "92375                0.000000        NEGATIVE       0.9777           10000  \n",
       "141771               0.000000        NEGATIVE       0.9992           10000  \n",
       "117868               0.000000        NEGATIVE       0.6052            9999  \n",
       "32475                0.400000        NEGATIVE       0.9991            9372  \n",
       "32477                0.400000        NEGATIVE       0.9991            9364  \n",
       "34758                0.523319        POSITIVE       0.7933            7991  \n",
       "5721                 0.460056        NEGATIVE       0.9986            6843  \n",
       "87211                0.472398        NEGATIVE       0.9816            6320  \n",
       "32474                0.400000        NEGATIVE       0.9991            6248  \n",
       "51056                0.490454        NEGATIVE       0.9255            5328  "
      ]
     },
     "execution_count": 232,
     "metadata": {},
     "output_type": "execute_result"
    }
   ],
   "source": [
    "sort_by_comment_length"
   ]
  },
  {
   "cell_type": "code",
   "execution_count": null,
   "metadata": {},
   "outputs": [],
   "source": []
  }
 ],
 "metadata": {
  "accelerator": "GPU",
  "colab": {
   "name": "Cyberpunk Sentiment Analysis.ipynb",
   "provenance": []
  },
  "kernelspec": {
   "display_name": "Python [conda env:cyberpunk]",
   "language": "python",
   "name": "conda-env-cyberpunk-py"
  },
  "language_info": {
   "codemirror_mode": {
    "name": "ipython",
    "version": 3
   },
   "file_extension": ".py",
   "mimetype": "text/x-python",
   "name": "python",
   "nbconvert_exporter": "python",
   "pygments_lexer": "ipython3",
   "version": "3.8.3"
  },
  "widgets": {
   "application/vnd.jupyter.widget-state+json": {
    "07f7bbda79f6486e8a720cacdc8a3231": {
     "model_module": "@jupyter-widgets/base",
     "model_name": "LayoutModel",
     "state": {
      "_model_module": "@jupyter-widgets/base",
      "_model_module_version": "1.2.0",
      "_model_name": "LayoutModel",
      "_view_count": null,
      "_view_module": "@jupyter-widgets/base",
      "_view_module_version": "1.2.0",
      "_view_name": "LayoutView",
      "align_content": null,
      "align_items": null,
      "align_self": null,
      "border": null,
      "bottom": null,
      "display": null,
      "flex": null,
      "flex_flow": null,
      "grid_area": null,
      "grid_auto_columns": null,
      "grid_auto_flow": null,
      "grid_auto_rows": null,
      "grid_column": null,
      "grid_gap": null,
      "grid_row": null,
      "grid_template_areas": null,
      "grid_template_columns": null,
      "grid_template_rows": null,
      "height": null,
      "justify_content": null,
      "justify_items": null,
      "left": null,
      "margin": null,
      "max_height": null,
      "max_width": null,
      "min_height": null,
      "min_width": null,
      "object_fit": null,
      "object_position": null,
      "order": null,
      "overflow": null,
      "overflow_x": null,
      "overflow_y": null,
      "padding": null,
      "right": null,
      "top": null,
      "visibility": null,
      "width": null
     }
    },
    "0a923d3eca8f45f493d9fd7fcd9b5d48": {
     "model_module": "@jupyter-widgets/controls",
     "model_name": "HTMLModel",
     "state": {
      "_dom_classes": [],
      "_model_module": "@jupyter-widgets/controls",
      "_model_module_version": "1.5.0",
      "_model_name": "HTMLModel",
      "_view_count": null,
      "_view_module": "@jupyter-widgets/controls",
      "_view_module_version": "1.5.0",
      "_view_name": "HTMLView",
      "description": "",
      "description_tooltip": null,
      "layout": "IPY_MODEL_83607020ce564a5498751231a73e2343",
      "placeholder": "​",
      "style": "IPY_MODEL_147d928b11ff46dab6f9f02bb52dab74",
      "value": " 232k/232k [00:00&lt;00:00, 587kB/s]"
     }
    },
    "147d928b11ff46dab6f9f02bb52dab74": {
     "model_module": "@jupyter-widgets/controls",
     "model_name": "DescriptionStyleModel",
     "state": {
      "_model_module": "@jupyter-widgets/controls",
      "_model_module_version": "1.5.0",
      "_model_name": "DescriptionStyleModel",
      "_view_count": null,
      "_view_module": "@jupyter-widgets/base",
      "_view_module_version": "1.2.0",
      "_view_name": "StyleView",
      "description_width": ""
     }
    },
    "22a0f17b317640c2a2d02f837c4ead2f": {
     "model_module": "@jupyter-widgets/controls",
     "model_name": "DescriptionStyleModel",
     "state": {
      "_model_module": "@jupyter-widgets/controls",
      "_model_module_version": "1.5.0",
      "_model_name": "DescriptionStyleModel",
      "_view_count": null,
      "_view_module": "@jupyter-widgets/base",
      "_view_module_version": "1.2.0",
      "_view_name": "StyleView",
      "description_width": ""
     }
    },
    "3257ddf0e88a475ebd7c1bc640e827bd": {
     "model_module": "@jupyter-widgets/controls",
     "model_name": "HTMLModel",
     "state": {
      "_dom_classes": [],
      "_model_module": "@jupyter-widgets/controls",
      "_model_module_version": "1.5.0",
      "_model_name": "HTMLModel",
      "_view_count": null,
      "_view_module": "@jupyter-widgets/controls",
      "_view_module_version": "1.5.0",
      "_view_name": "HTMLView",
      "description": "",
      "description_tooltip": null,
      "layout": "IPY_MODEL_6d064b4fc0f94c3ea950a954871081db",
      "placeholder": "​",
      "style": "IPY_MODEL_22a0f17b317640c2a2d02f837c4ead2f",
      "value": " 442/442 [00:00&lt;00:00, 505B/s]"
     }
    },
    "33a0c0533b374b98bc1f3520672826d3": {
     "model_module": "@jupyter-widgets/controls",
     "model_name": "HBoxModel",
     "state": {
      "_dom_classes": [],
      "_model_module": "@jupyter-widgets/controls",
      "_model_module_version": "1.5.0",
      "_model_name": "HBoxModel",
      "_view_count": null,
      "_view_module": "@jupyter-widgets/controls",
      "_view_module_version": "1.5.0",
      "_view_name": "HBoxView",
      "box_style": "",
      "children": [
       "IPY_MODEL_7711c0a11d5b40b69bc90e986dda64b8",
       "IPY_MODEL_3257ddf0e88a475ebd7c1bc640e827bd"
      ],
      "layout": "IPY_MODEL_9395387566a44065afa3dd03f795f04c"
     }
    },
    "500cf68a4f214f90a74136c4876c262e": {
     "model_module": "@jupyter-widgets/controls",
     "model_name": "ProgressStyleModel",
     "state": {
      "_model_module": "@jupyter-widgets/controls",
      "_model_module_version": "1.5.0",
      "_model_name": "ProgressStyleModel",
      "_view_count": null,
      "_view_module": "@jupyter-widgets/base",
      "_view_module_version": "1.2.0",
      "_view_name": "StyleView",
      "bar_color": null,
      "description_width": "initial"
     }
    },
    "5672ef77ce6f47b8a4e6267eb4537ae6": {
     "model_module": "@jupyter-widgets/controls",
     "model_name": "ProgressStyleModel",
     "state": {
      "_model_module": "@jupyter-widgets/controls",
      "_model_module_version": "1.5.0",
      "_model_name": "ProgressStyleModel",
      "_view_count": null,
      "_view_module": "@jupyter-widgets/base",
      "_view_module_version": "1.2.0",
      "_view_name": "StyleView",
      "bar_color": null,
      "description_width": "initial"
     }
    },
    "6d064b4fc0f94c3ea950a954871081db": {
     "model_module": "@jupyter-widgets/base",
     "model_name": "LayoutModel",
     "state": {
      "_model_module": "@jupyter-widgets/base",
      "_model_module_version": "1.2.0",
      "_model_name": "LayoutModel",
      "_view_count": null,
      "_view_module": "@jupyter-widgets/base",
      "_view_module_version": "1.2.0",
      "_view_name": "LayoutView",
      "align_content": null,
      "align_items": null,
      "align_self": null,
      "border": null,
      "bottom": null,
      "display": null,
      "flex": null,
      "flex_flow": null,
      "grid_area": null,
      "grid_auto_columns": null,
      "grid_auto_flow": null,
      "grid_auto_rows": null,
      "grid_column": null,
      "grid_gap": null,
      "grid_row": null,
      "grid_template_areas": null,
      "grid_template_columns": null,
      "grid_template_rows": null,
      "height": null,
      "justify_content": null,
      "justify_items": null,
      "left": null,
      "margin": null,
      "max_height": null,
      "max_width": null,
      "min_height": null,
      "min_width": null,
      "object_fit": null,
      "object_position": null,
      "order": null,
      "overflow": null,
      "overflow_x": null,
      "overflow_y": null,
      "padding": null,
      "right": null,
      "top": null,
      "visibility": null,
      "width": null
     }
    },
    "7711c0a11d5b40b69bc90e986dda64b8": {
     "model_module": "@jupyter-widgets/controls",
     "model_name": "FloatProgressModel",
     "state": {
      "_dom_classes": [],
      "_model_module": "@jupyter-widgets/controls",
      "_model_module_version": "1.5.0",
      "_model_name": "FloatProgressModel",
      "_view_count": null,
      "_view_module": "@jupyter-widgets/controls",
      "_view_module_version": "1.5.0",
      "_view_name": "ProgressView",
      "bar_style": "success",
      "description": "Downloading: 100%",
      "description_tooltip": null,
      "layout": "IPY_MODEL_07f7bbda79f6486e8a720cacdc8a3231",
      "max": 442,
      "min": 0,
      "orientation": "horizontal",
      "style": "IPY_MODEL_500cf68a4f214f90a74136c4876c262e",
      "value": 442
     }
    },
    "7a51b7917f0a4c3295fefb683a89d9a9": {
     "model_module": "@jupyter-widgets/base",
     "model_name": "LayoutModel",
     "state": {
      "_model_module": "@jupyter-widgets/base",
      "_model_module_version": "1.2.0",
      "_model_name": "LayoutModel",
      "_view_count": null,
      "_view_module": "@jupyter-widgets/base",
      "_view_module_version": "1.2.0",
      "_view_name": "LayoutView",
      "align_content": null,
      "align_items": null,
      "align_self": null,
      "border": null,
      "bottom": null,
      "display": null,
      "flex": null,
      "flex_flow": null,
      "grid_area": null,
      "grid_auto_columns": null,
      "grid_auto_flow": null,
      "grid_auto_rows": null,
      "grid_column": null,
      "grid_gap": null,
      "grid_row": null,
      "grid_template_areas": null,
      "grid_template_columns": null,
      "grid_template_rows": null,
      "height": null,
      "justify_content": null,
      "justify_items": null,
      "left": null,
      "margin": null,
      "max_height": null,
      "max_width": null,
      "min_height": null,
      "min_width": null,
      "object_fit": null,
      "object_position": null,
      "order": null,
      "overflow": null,
      "overflow_x": null,
      "overflow_y": null,
      "padding": null,
      "right": null,
      "top": null,
      "visibility": null,
      "width": null
     }
    },
    "83607020ce564a5498751231a73e2343": {
     "model_module": "@jupyter-widgets/base",
     "model_name": "LayoutModel",
     "state": {
      "_model_module": "@jupyter-widgets/base",
      "_model_module_version": "1.2.0",
      "_model_name": "LayoutModel",
      "_view_count": null,
      "_view_module": "@jupyter-widgets/base",
      "_view_module_version": "1.2.0",
      "_view_name": "LayoutView",
      "align_content": null,
      "align_items": null,
      "align_self": null,
      "border": null,
      "bottom": null,
      "display": null,
      "flex": null,
      "flex_flow": null,
      "grid_area": null,
      "grid_auto_columns": null,
      "grid_auto_flow": null,
      "grid_auto_rows": null,
      "grid_column": null,
      "grid_gap": null,
      "grid_row": null,
      "grid_template_areas": null,
      "grid_template_columns": null,
      "grid_template_rows": null,
      "height": null,
      "justify_content": null,
      "justify_items": null,
      "left": null,
      "margin": null,
      "max_height": null,
      "max_width": null,
      "min_height": null,
      "min_width": null,
      "object_fit": null,
      "object_position": null,
      "order": null,
      "overflow": null,
      "overflow_x": null,
      "overflow_y": null,
      "padding": null,
      "right": null,
      "top": null,
      "visibility": null,
      "width": null
     }
    },
    "9395387566a44065afa3dd03f795f04c": {
     "model_module": "@jupyter-widgets/base",
     "model_name": "LayoutModel",
     "state": {
      "_model_module": "@jupyter-widgets/base",
      "_model_module_version": "1.2.0",
      "_model_name": "LayoutModel",
      "_view_count": null,
      "_view_module": "@jupyter-widgets/base",
      "_view_module_version": "1.2.0",
      "_view_name": "LayoutView",
      "align_content": null,
      "align_items": null,
      "align_self": null,
      "border": null,
      "bottom": null,
      "display": null,
      "flex": null,
      "flex_flow": null,
      "grid_area": null,
      "grid_auto_columns": null,
      "grid_auto_flow": null,
      "grid_auto_rows": null,
      "grid_column": null,
      "grid_gap": null,
      "grid_row": null,
      "grid_template_areas": null,
      "grid_template_columns": null,
      "grid_template_rows": null,
      "height": null,
      "justify_content": null,
      "justify_items": null,
      "left": null,
      "margin": null,
      "max_height": null,
      "max_width": null,
      "min_height": null,
      "min_width": null,
      "object_fit": null,
      "object_position": null,
      "order": null,
      "overflow": null,
      "overflow_x": null,
      "overflow_y": null,
      "padding": null,
      "right": null,
      "top": null,
      "visibility": null,
      "width": null
     }
    },
    "a740e9e196f04213921a57ad159e724a": {
     "model_module": "@jupyter-widgets/controls",
     "model_name": "FloatProgressModel",
     "state": {
      "_dom_classes": [],
      "_model_module": "@jupyter-widgets/controls",
      "_model_module_version": "1.5.0",
      "_model_name": "FloatProgressModel",
      "_view_count": null,
      "_view_module": "@jupyter-widgets/controls",
      "_view_module_version": "1.5.0",
      "_view_name": "ProgressView",
      "bar_style": "success",
      "description": "Downloading: 100%",
      "description_tooltip": null,
      "layout": "IPY_MODEL_d96120202bf44eb2b77dad145425fe3a",
      "max": 231508,
      "min": 0,
      "orientation": "horizontal",
      "style": "IPY_MODEL_5672ef77ce6f47b8a4e6267eb4537ae6",
      "value": 231508
     }
    },
    "bb36c926198b4ad682ed723329f80459": {
     "model_module": "@jupyter-widgets/controls",
     "model_name": "HBoxModel",
     "state": {
      "_dom_classes": [],
      "_model_module": "@jupyter-widgets/controls",
      "_model_module_version": "1.5.0",
      "_model_name": "HBoxModel",
      "_view_count": null,
      "_view_module": "@jupyter-widgets/controls",
      "_view_module_version": "1.5.0",
      "_view_name": "HBoxView",
      "box_style": "",
      "children": [
       "IPY_MODEL_a740e9e196f04213921a57ad159e724a",
       "IPY_MODEL_0a923d3eca8f45f493d9fd7fcd9b5d48"
      ],
      "layout": "IPY_MODEL_7a51b7917f0a4c3295fefb683a89d9a9"
     }
    },
    "d96120202bf44eb2b77dad145425fe3a": {
     "model_module": "@jupyter-widgets/base",
     "model_name": "LayoutModel",
     "state": {
      "_model_module": "@jupyter-widgets/base",
      "_model_module_version": "1.2.0",
      "_model_name": "LayoutModel",
      "_view_count": null,
      "_view_module": "@jupyter-widgets/base",
      "_view_module_version": "1.2.0",
      "_view_name": "LayoutView",
      "align_content": null,
      "align_items": null,
      "align_self": null,
      "border": null,
      "bottom": null,
      "display": null,
      "flex": null,
      "flex_flow": null,
      "grid_area": null,
      "grid_auto_columns": null,
      "grid_auto_flow": null,
      "grid_auto_rows": null,
      "grid_column": null,
      "grid_gap": null,
      "grid_row": null,
      "grid_template_areas": null,
      "grid_template_columns": null,
      "grid_template_rows": null,
      "height": null,
      "justify_content": null,
      "justify_items": null,
      "left": null,
      "margin": null,
      "max_height": null,
      "max_width": null,
      "min_height": null,
      "min_width": null,
      "object_fit": null,
      "object_position": null,
      "order": null,
      "overflow": null,
      "overflow_x": null,
      "overflow_y": null,
      "padding": null,
      "right": null,
      "top": null,
      "visibility": null,
      "width": null
     }
    }
   }
  }
 },
 "nbformat": 4,
 "nbformat_minor": 4
}
