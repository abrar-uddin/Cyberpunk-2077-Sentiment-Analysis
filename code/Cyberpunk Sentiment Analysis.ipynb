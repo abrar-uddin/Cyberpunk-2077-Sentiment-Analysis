{
 "cells": [
  {
   "cell_type": "code",
   "execution_count": 1,
   "metadata": {
    "colab": {
     "base_uri": "https://localhost:8080/",
     "height": 102
    },
    "colab_type": "code",
    "id": "1J7wqCcElMiU",
    "outputId": "5ccac08b-44f9-44a5-84ff-4d463ba96447"
   },
   "outputs": [
    {
     "name": "stderr",
     "output_type": "stream",
     "text": [
      "[nltk_data] Downloading package wordnet to\n",
      "[nltk_data]     C:\\Users\\uddin\\AppData\\Roaming\\nltk_data...\n",
      "[nltk_data]   Package wordnet is already up-to-date!\n",
      "[nltk_data] Downloading package stopwords to\n",
      "[nltk_data]     C:\\Users\\uddin\\AppData\\Roaming\\nltk_data...\n",
      "[nltk_data]   Package stopwords is already up-to-date!\n"
     ]
    }
   ],
   "source": [
    "# Standard data manipulation/visualization libraries\n",
    "import pandas as pd\n",
    "import numpy as np\n",
    "import matplotlib.pyplot as plt\n",
    "%matplotlib inline\n",
    "import seaborn as sns\n",
    "sns.set()\n",
    "\n",
    "# Custom text cleaning tool\n",
    "import text_cleaner as cln\n",
    "\n",
    "# Word clound library tools\n",
    "from wordcloud import WordCloud, ImageColorGenerator\n",
    "from PIL import Image\n",
    "\n",
    "# Sentiment analysis libraries\n",
    "from textblob import TextBlob\n",
    "import flair\n",
    "\n",
    "# Interactive dashboard library\n",
    "import streamlit\n",
    "\n",
    "import csv_to_sqlite "
   ]
  },
  {
   "cell_type": "code",
   "execution_count": 13,
   "metadata": {
    "colab": {},
    "colab_type": "code",
    "id": "7sCpFVQ-lMiW"
   },
   "outputs": [],
   "source": [
    "input_file = \"../data/raw_data/comments.csv\"\n",
    "raw_comments = pd.read_csv(input_file, lineterminator='\\n')\n",
    "raw_comments_replies = pd.read_csv('../data/raw_data/comment_replies.csv', lineterminator='\\n')"
   ]
  },
  {
   "cell_type": "code",
   "execution_count": 14,
   "metadata": {
    "colab": {},
    "colab_type": "code",
    "id": "TqPorqxllMic"
   },
   "outputs": [],
   "source": [
    "data = raw_comments.drop(['author'], axis=1)\n",
    "reply_data = raw_comments_replies.drop(['author'], axis=1)"
   ]
  },
  {
   "cell_type": "markdown",
   "metadata": {
    "colab_type": "text",
    "id": "1-HntkoflMie"
   },
   "source": [
    "# Preprocessing"
   ]
  },
  {
   "cell_type": "code",
   "execution_count": 15,
   "metadata": {
    "colab": {},
    "colab_type": "code",
    "id": "1LvGTP-5lMie"
   },
   "outputs": [],
   "source": [
    "cleaner = cln.TextCleaner()\n",
    "cleaned_comments = cleaner.clean(data['text'].astype(str))\n",
    "cleaned_replies = cleaner.clean(reply_data['replyText'].astype(str))"
   ]
  },
  {
   "cell_type": "code",
   "execution_count": 16,
   "metadata": {
    "colab": {},
    "colab_type": "code",
    "id": "pc0JnpuAlMig"
   },
   "outputs": [],
   "source": [
    "cleaned_data = data.copy()\n",
    "cleaned_data['cleaned_comments'] = cleaned_comments\n",
    "\n",
    "cleaned_reply_data = reply_data.copy()\n",
    "cleaned_reply_data['cleaned_replies'] = cleaned_replies"
   ]
  },
  {
   "cell_type": "code",
   "execution_count": 17,
   "metadata": {
    "colab": {},
    "colab_type": "code",
    "id": "EUDCh9qnlMik"
   },
   "outputs": [],
   "source": [
    "cleaned_data.to_json('../data/cleaned_comments.json')\n",
    "cleaned_reply_data.to_json('../data/cleaned_replies.json')"
   ]
  },
  {
   "cell_type": "markdown",
   "metadata": {
    "colab_type": "text",
    "id": "NQAnbo82mTTd"
   },
   "source": [
    "# Sentiment Analysis"
   ]
  },
  {
   "cell_type": "code",
   "execution_count": null,
   "metadata": {
    "colab": {},
    "colab_type": "code",
    "id": "o0rPIO2Cmb0R"
   },
   "outputs": [],
   "source": [
    "sentiment_analysis = cleaned_data.copy()"
   ]
  },
  {
   "cell_type": "markdown",
   "metadata": {
    "colab_type": "text",
    "id": "rSeI_SFv0F4k"
   },
   "source": [
    "## TextBlob pre-trained model"
   ]
  },
  {
   "cell_type": "code",
   "execution_count": null,
   "metadata": {
    "colab": {
     "base_uri": "https://localhost:8080/",
     "height": 34
    },
    "colab_type": "code",
    "id": "7CJrM14WlMis",
    "outputId": "effad3cc-7dbd-444e-b3fc-4ba15ce12291"
   },
   "outputs": [],
   "source": [
    "textblob_results = {\"positive\":0,\"neutral\":0,\"negative\":0}\n",
    "sentiment_polarity = []\n",
    "sentiment_subj = []\n",
    "for x in cleaned_data['cleaned_comments']: \n",
    "    res = TextBlob(x).sentiment\n",
    "    sentiment_polarity.append(res[0])\n",
    "    sentiment_subj.append(res[1])\n",
    "    if res[0] == 0.0: \n",
    "        textblob_results[\"neutral\"] +=1\n",
    "    elif res[0] > 0.0:\n",
    "        textblob_results[\"positive\"] +=1\n",
    "    else:\n",
    "        textblob_results[\"negative\"] +=1\n",
    "print(textblob_results)"
   ]
  },
  {
   "cell_type": "code",
   "execution_count": null,
   "metadata": {
    "colab": {
     "base_uri": "https://localhost:8080/",
     "height": 248
    },
    "colab_type": "code",
    "id": "s_6nmF5zlMit",
    "outputId": "6c2f2829-cc87-4fc3-903d-2fea30ae4639"
   },
   "outputs": [],
   "source": [
    "labels = textblob_results.keys()\n",
    "percentages = textblob_results.values()\n",
    "explode = (0.1, 0, 0)\n",
    "\n",
    "fig, ax = plt.subplots()\n",
    "ax.pie(percentages, explode=explode, labels=labels, autopct='%1.1f%%',\n",
    "        shadow=True, startangle=90)\n",
    "ax.axis('equal')\n",
    "\n",
    "plt.show()"
   ]
  },
  {
   "cell_type": "code",
   "execution_count": null,
   "metadata": {
    "colab": {},
    "colab_type": "code",
    "id": "GFKOaraMlMiv"
   },
   "outputs": [],
   "source": [
    "sentiment_analysis['textblob_polarity'] = sentiment_polarity\n",
    "sentiment_analysis['textblob_subjectivity'] = sentiment_subj"
   ]
  },
  {
   "cell_type": "markdown",
   "metadata": {
    "colab_type": "text",
    "id": "kUUPlATn0XXR"
   },
   "source": [
    "## Flair pre-built model"
   ]
  },
  {
   "cell_type": "code",
   "execution_count": null,
   "metadata": {
    "colab": {
     "base_uri": "https://localhost:8080/",
     "height": 200,
     "referenced_widgets": [
      "33a0c0533b374b98bc1f3520672826d3",
      "9395387566a44065afa3dd03f795f04c",
      "7711c0a11d5b40b69bc90e986dda64b8",
      "3257ddf0e88a475ebd7c1bc640e827bd",
      "500cf68a4f214f90a74136c4876c262e",
      "07f7bbda79f6486e8a720cacdc8a3231",
      "22a0f17b317640c2a2d02f837c4ead2f",
      "6d064b4fc0f94c3ea950a954871081db",
      "bb36c926198b4ad682ed723329f80459",
      "7a51b7917f0a4c3295fefb683a89d9a9",
      "a740e9e196f04213921a57ad159e724a",
      "0a923d3eca8f45f493d9fd7fcd9b5d48",
      "5672ef77ce6f47b8a4e6267eb4537ae6",
      "d96120202bf44eb2b77dad145425fe3a",
      "147d928b11ff46dab6f9f02bb52dab74",
      "83607020ce564a5498751231a73e2343"
     ]
    },
    "colab_type": "code",
    "id": "fmmj_8oNlMiz",
    "outputId": "a78527ac-c1a9-4edc-cc68-cc55b2d5a7c9"
   },
   "outputs": [],
   "source": [
    "flair_sentiment = flair.models.TextClassifier.load('en-sentiment')"
   ]
  },
  {
   "cell_type": "code",
   "execution_count": null,
   "metadata": {
    "colab": {
     "base_uri": "https://localhost:8080/",
     "height": 34
    },
    "colab_type": "code",
    "id": "k4TwK7vylMi0",
    "outputId": "7af7e912-6042-42ad-8cb8-327a63c99dc0"
   },
   "outputs": [],
   "source": [
    "flair_results = {\"positive\":0, \"negative\":0}\n",
    "sentiment_val = []\n",
    "sentiment_score = []\n",
    "for x in cleaned_data['cleaned_comments']: \n",
    "    sentiment = flair.data.Sentence(x)\n",
    "    flair_sentiment.predict(sentiment)\n",
    "    res = sentiment.labels\n",
    "    res = str(res[0]).replace('(', '').replace(')', '').split(' ')\n",
    "    sentiment_val.append(res[0])\n",
    "    sentiment_score.append(res[1])\n",
    "    if res[0] == \"POSITIVE\":\n",
    "        flair_results[\"positive\"] +=1\n",
    "    else:\n",
    "        flair_results[\"negative\"] +=1\n",
    "print(flair_results)"
   ]
  },
  {
   "cell_type": "code",
   "execution_count": null,
   "metadata": {
    "colab": {
     "base_uri": "https://localhost:8080/",
     "height": 248
    },
    "colab_type": "code",
    "id": "cO2lVFRblMi5",
    "outputId": "88388bab-55e7-4fd5-b4cb-cf5b4a9efec4"
   },
   "outputs": [],
   "source": [
    "labels = flair_results.keys()\n",
    "percentages = flair_results.values()\n",
    "explode = (0.1, 0)\n",
    "\n",
    "fig, ax = plt.subplots()\n",
    "ax.pie(percentages, explode=explode, labels=labels, autopct='%1.1f%%',\n",
    "        shadow=True, startangle=90)\n",
    "ax.axis('equal')\n",
    "\n",
    "plt.show()"
   ]
  },
  {
   "cell_type": "code",
   "execution_count": null,
   "metadata": {
    "colab": {},
    "colab_type": "code",
    "id": "ts0FYfzfzqeX"
   },
   "outputs": [],
   "source": [
    "sentiment_analysis['flair_sentiment'] = sentiment_val\n",
    "sentiment_analysis['flair_score'] = sentiment_score"
   ]
  },
  {
   "cell_type": "code",
   "execution_count": null,
   "metadata": {
    "colab": {},
    "colab_type": "code",
    "id": "VYqrwjQylMi2"
   },
   "outputs": [],
   "source": [
    "sentiment_analysis.to_json('../data/sentiment_analysis.json')"
   ]
  },
  {
   "cell_type": "code",
   "execution_count": null,
   "metadata": {},
   "outputs": [],
   "source": [
    "model_results = pd.DataFrame()\n",
    "model_results = model_results.append(pd.DataFrame(data=[textblob_results.values()], columns=['positive', 'neutral', 'negative'], index=['textblob']))\n",
    "model_results = model_results.append(pd.DataFrame(data=[flair_results.values()], columns=['positive', 'negative'], index=['flair']))\n",
    "model_results = model_results.T\n",
    "model_results.to_csv('../data/model_results.csv')"
   ]
  },
  {
   "cell_type": "markdown",
   "metadata": {},
   "source": [
    "# Creating SQLite Database File"
   ]
  },
  {
   "cell_type": "code",
   "execution_count": 3,
   "metadata": {},
   "outputs": [],
   "source": [
    "df = pd.read_json(\"../data/sentiment_analysis.json\")"
   ]
  },
  {
   "cell_type": "code",
   "execution_count": 4,
   "metadata": {},
   "outputs": [
    {
     "name": "stdout",
     "output_type": "stream",
     "text": [
      "Written 171781 rows into 1 tables in 2.936 seconds\n"
     ]
    }
   ],
   "source": [
    "df.to_csv('../data/sentiment_analysis.csv', index=False)\n",
    "options = csv_to_sqlite.CsvOptions(typing_style=\"full\", encoding=\"utf-8\") \n",
    "csv_to_sqlite.write_csv(['../data/sentiment_analysis.csv'], \"sentiment_analysis_db.sqlite\", options)"
   ]
  },
  {
   "cell_type": "markdown",
   "metadata": {
    "colab_type": "text",
    "id": "AHDSCtyBmFAW"
   },
   "source": [
    "# Word Blob"
   ]
  },
  {
   "cell_type": "code",
   "execution_count": null,
   "metadata": {},
   "outputs": [],
   "source": [
    "df = pd.read_json(\"../data/sentiment_analysis.json\")"
   ]
  },
  {
   "cell_type": "code",
   "execution_count": null,
   "metadata": {
    "colab": {},
    "colab_type": "code",
    "id": "2SjnazsalMil"
   },
   "outputs": [],
   "source": [
    "mask = np.array(Image.open('../images/reeves.png'))"
   ]
  },
  {
   "cell_type": "code",
   "execution_count": null,
   "metadata": {
    "colab": {},
    "colab_type": "code",
    "id": "g5PN9ldKlMin"
   },
   "outputs": [],
   "source": [
    "words = ''\n",
    "for x in df['cleaned_comments']:\n",
    "    words += \"\".join(str(x).strip(\"[]\").replace(\"'\", \"\").replace(\",\", \"\"))"
   ]
  },
  {
   "cell_type": "code",
   "execution_count": null,
   "metadata": {
    "colab": {},
    "colab_type": "code",
    "id": "ov5rIoGSlMio"
   },
   "outputs": [],
   "source": [
    "wordcloud = WordCloud(background_color=\"white\", max_words=10000, random_state=42, mask=mask).generate(words)"
   ]
  },
  {
   "cell_type": "code",
   "execution_count": null,
   "metadata": {
    "colab": {
     "base_uri": "https://localhost:8080/",
     "height": 640
    },
    "colab_type": "code",
    "id": "psAGb0qRlMiq",
    "outputId": "8079d1c1-4c42-4992-ed67-f3e278fa7c40"
   },
   "outputs": [],
   "source": [
    "image_colors = ImageColorGenerator(mask)\n",
    "plt.figure(figsize=[15,15])\n",
    "plt.imshow(wordcloud.recolor(color_func=image_colors), interpolation='bilinear')\n",
    "plt.axis(\"off\")\n",
    "plt.show()"
   ]
  },
  {
   "cell_type": "code",
   "execution_count": null,
   "metadata": {},
   "outputs": [],
   "source": []
  },
  {
   "cell_type": "code",
   "execution_count": null,
   "metadata": {},
   "outputs": [],
   "source": []
  },
  {
   "cell_type": "code",
   "execution_count": null,
   "metadata": {},
   "outputs": [],
   "source": []
  },
  {
   "cell_type": "code",
   "execution_count": null,
   "metadata": {},
   "outputs": [],
   "source": []
  },
  {
   "cell_type": "code",
   "execution_count": null,
   "metadata": {},
   "outputs": [],
   "source": []
  },
  {
   "cell_type": "code",
   "execution_count": 5,
   "metadata": {},
   "outputs": [],
   "source": [
    "import plotly.graph_objects as go\n",
    "from plotly.subplots import make_subplots\n",
    "import sqlite3"
   ]
  },
  {
   "cell_type": "code",
   "execution_count": 50,
   "metadata": {},
   "outputs": [],
   "source": [
    "vid_table = pd.read_csv('../data/raw_data/videos.csv')"
   ]
  },
  {
   "cell_type": "code",
   "execution_count": 67,
   "metadata": {},
   "outputs": [
    {
     "data": {
      "text/html": [
       "<div>\n",
       "<style scoped>\n",
       "    .dataframe tbody tr th:only-of-type {\n",
       "        vertical-align: middle;\n",
       "    }\n",
       "\n",
       "    .dataframe tbody tr th {\n",
       "        vertical-align: top;\n",
       "    }\n",
       "\n",
       "    .dataframe thead th {\n",
       "        text-align: right;\n",
       "    }\n",
       "</style>\n",
       "<table border=\"1\" class=\"dataframe\">\n",
       "  <thead>\n",
       "    <tr style=\"text-align: right;\">\n",
       "      <th></th>\n",
       "      <th>channelId</th>\n",
       "      <th>videoId</th>\n",
       "      <th>categoryId</th>\n",
       "      <th>title</th>\n",
       "      <th>viewCount</th>\n",
       "      <th>likeCount</th>\n",
       "      <th>dislikeCount</th>\n",
       "      <th>commentCount</th>\n",
       "      <th>publishedAt</th>\n",
       "      <th>description</th>\n",
       "    </tr>\n",
       "  </thead>\n",
       "  <tbody>\n",
       "    <tr>\n",
       "      <th>0</th>\n",
       "      <td>UC4zyoIAzmdsgpDZQfO1-lSA</td>\n",
       "      <td>aWbQ5WcB0m4</td>\n",
       "      <td>20</td>\n",
       "      <td>Announcement Trailer - Cyber Up Your PC! Cyber...</td>\n",
       "      <td>551793</td>\n",
       "      <td>14324</td>\n",
       "      <td>740</td>\n",
       "      <td>1492</td>\n",
       "      <td>2020-04-07T14:45:17Z</td>\n",
       "      <td>Design the Cyberpunk 2077 PC Case of Your Drea...</td>\n",
       "    </tr>\n",
       "    <tr>\n",
       "      <th>1</th>\n",
       "      <td>UC4zyoIAzmdsgpDZQfO1-lSA</td>\n",
       "      <td>mrZC1Jcv0dw</td>\n",
       "      <td>20</td>\n",
       "      <td>Grimes – 4ÆM</td>\n",
       "      <td>2447237</td>\n",
       "      <td>104973</td>\n",
       "      <td>1958</td>\n",
       "      <td>7342</td>\n",
       "      <td>2019-12-19T15:06:33Z</td>\n",
       "      <td>oo-\\naphrodite, i wrote your constellation\\nin...</td>\n",
       "    </tr>\n",
       "    <tr>\n",
       "      <th>2</th>\n",
       "      <td>UC4zyoIAzmdsgpDZQfO1-lSA</td>\n",
       "      <td>Q4ZdkEiYvK0</td>\n",
       "      <td>20</td>\n",
       "      <td>Cyberpunk 2077 – Grimes performing 4ÆM live at...</td>\n",
       "      <td>3618884</td>\n",
       "      <td>34040</td>\n",
       "      <td>962</td>\n",
       "      <td>2758</td>\n",
       "      <td>2019-12-13T04:51:20Z</td>\n",
       "      <td>Watch Grimes – who will be also voicing Lizzy ...</td>\n",
       "    </tr>\n",
       "    <tr>\n",
       "      <th>3</th>\n",
       "      <td>UC4zyoIAzmdsgpDZQfO1-lSA</td>\n",
       "      <td>aZ_ARLDWK9Y</td>\n",
       "      <td>20</td>\n",
       "      <td>Cyberpunk 2077 – Behind The Music</td>\n",
       "      <td>413220</td>\n",
       "      <td>23218</td>\n",
       "      <td>340</td>\n",
       "      <td>2702</td>\n",
       "      <td>2019-12-13T02:57:19Z</td>\n",
       "      <td>Meet some of the artists behind Cyberpunk 2077...</td>\n",
       "    </tr>\n",
       "    <tr>\n",
       "      <th>4</th>\n",
       "      <td>UC4zyoIAzmdsgpDZQfO1-lSA</td>\n",
       "      <td>cgFvZmfjTYc</td>\n",
       "      <td>20</td>\n",
       "      <td>Cyberpunk 2077 — Official E3 2019 Cinematic Tr...</td>\n",
       "      <td>1015116</td>\n",
       "      <td>67731</td>\n",
       "      <td>465</td>\n",
       "      <td>3945</td>\n",
       "      <td>2019-09-11T14:01:45Z</td>\n",
       "      <td>CD PROJEKT RED and Goodbye Kansas present: the...</td>\n",
       "    </tr>\n",
       "  </tbody>\n",
       "</table>\n",
       "</div>"
      ],
      "text/plain": [
       "                  channelId      videoId  categoryId  \\\n",
       "0  UC4zyoIAzmdsgpDZQfO1-lSA  aWbQ5WcB0m4          20   \n",
       "1  UC4zyoIAzmdsgpDZQfO1-lSA  mrZC1Jcv0dw          20   \n",
       "2  UC4zyoIAzmdsgpDZQfO1-lSA  Q4ZdkEiYvK0          20   \n",
       "3  UC4zyoIAzmdsgpDZQfO1-lSA  aZ_ARLDWK9Y          20   \n",
       "4  UC4zyoIAzmdsgpDZQfO1-lSA  cgFvZmfjTYc          20   \n",
       "\n",
       "                                               title  viewCount  likeCount  \\\n",
       "0  Announcement Trailer - Cyber Up Your PC! Cyber...     551793      14324   \n",
       "1                                       Grimes – 4ÆM    2447237     104973   \n",
       "2  Cyberpunk 2077 – Grimes performing 4ÆM live at...    3618884      34040   \n",
       "3                  Cyberpunk 2077 – Behind The Music     413220      23218   \n",
       "4  Cyberpunk 2077 — Official E3 2019 Cinematic Tr...    1015116      67731   \n",
       "\n",
       "   dislikeCount  commentCount           publishedAt  \\\n",
       "0           740          1492  2020-04-07T14:45:17Z   \n",
       "1          1958          7342  2019-12-19T15:06:33Z   \n",
       "2           962          2758  2019-12-13T04:51:20Z   \n",
       "3           340          2702  2019-12-13T02:57:19Z   \n",
       "4           465          3945  2019-09-11T14:01:45Z   \n",
       "\n",
       "                                         description  \n",
       "0  Design the Cyberpunk 2077 PC Case of Your Drea...  \n",
       "1  oo-\\naphrodite, i wrote your constellation\\nin...  \n",
       "2  Watch Grimes – who will be also voicing Lizzy ...  \n",
       "3  Meet some of the artists behind Cyberpunk 2077...  \n",
       "4  CD PROJEKT RED and Goodbye Kansas present: the...  "
      ]
     },
     "execution_count": 67,
     "metadata": {},
     "output_type": "execute_result"
    }
   ],
   "source": [
    "vid.head()"
   ]
  },
  {
   "cell_type": "code",
   "execution_count": 149,
   "metadata": {},
   "outputs": [],
   "source": [
    "con = sqlite3.connect(\"sentiment_analysis_db.sqlite\")\n",
    "index = pd.read_sql_query(\"SELECT videoId \"\n",
    "                          \"FROM sentiment_analysis GROUP BY videoId\", con)\n",
    "table1 = pd.read_sql_query(\"SELECT COUNT(textblob_polarity) as TextBlob_Positive \"\n",
    "                          \"FROM sentiment_analysis WHERE textblob_polarity > 0 GROUP BY videoId\", con)\n",
    "table2 = pd.read_sql_query(\"SELECT COUNT(textblob_subjectivity) as TextBlob_Neutral \"\n",
    "                          \"FROM sentiment_analysis WHERE textblob_subjectivity == 0 GROUP BY videoId\", con)\n",
    "table3 = pd.read_sql_query(\"SELECT COUNT(textblob_polarity) as TextBlob_Negative \"\n",
    "                          \"FROM sentiment_analysis WHERE textblob_polarity < 0 GROUP BY videoId\", con)\n",
    "\n",
    "table4 = pd.read_sql_query(\"SELECT COUNT(flair_score) as Flair_Positive \"\n",
    "                          \"FROM sentiment_analysis WHERE flair_sentiment == \\\"POSITIVE\\\" GROUP BY videoId\", con)\n",
    "table5 = pd.read_sql_query(\"SELECT COUNT(flair_score) as Flair_Negative \"\n",
    "                          \"FROM sentiment_analysis WHERE flair_sentiment == \\\"NEGATIVE\\\" GROUP BY videoId\", con)\n",
    "con.close()"
   ]
  },
  {
   "cell_type": "code",
   "execution_count": 150,
   "metadata": {},
   "outputs": [],
   "source": [
    "frames = [index, table1, table2, table3, table4, table5]\n",
    "frames = pd.concat(frames, axis=1)"
   ]
  },
  {
   "cell_type": "code",
   "execution_count": 152,
   "metadata": {
    "scrolled": false
   },
   "outputs": [
    {
     "data": {
      "text/html": [
       "<div>\n",
       "<style scoped>\n",
       "    .dataframe tbody tr th:only-of-type {\n",
       "        vertical-align: middle;\n",
       "    }\n",
       "\n",
       "    .dataframe tbody tr th {\n",
       "        vertical-align: top;\n",
       "    }\n",
       "\n",
       "    .dataframe thead th {\n",
       "        text-align: right;\n",
       "    }\n",
       "</style>\n",
       "<table border=\"1\" class=\"dataframe\">\n",
       "  <thead>\n",
       "    <tr style=\"text-align: right;\">\n",
       "      <th></th>\n",
       "      <th>videoId</th>\n",
       "      <th>TextBlob_Positive</th>\n",
       "      <th>TextBlob_Neutral</th>\n",
       "      <th>TextBlob_Negative</th>\n",
       "      <th>Flair_Positive</th>\n",
       "      <th>Flair_Negative</th>\n",
       "    </tr>\n",
       "  </thead>\n",
       "  <tbody>\n",
       "    <tr>\n",
       "      <th>0</th>\n",
       "      <td>8X2kIfS6fb8</td>\n",
       "      <td>6743</td>\n",
       "      <td>11967</td>\n",
       "      <td>4932</td>\n",
       "      <td>10806</td>\n",
       "      <td>13757</td>\n",
       "    </tr>\n",
       "    <tr>\n",
       "      <th>1</th>\n",
       "      <td>AN1RJF55NXI</td>\n",
       "      <td>589</td>\n",
       "      <td>632</td>\n",
       "      <td>274</td>\n",
       "      <td>744</td>\n",
       "      <td>790</td>\n",
       "    </tr>\n",
       "    <tr>\n",
       "      <th>2</th>\n",
       "      <td>FknHjl7eQ6o</td>\n",
       "      <td>3298</td>\n",
       "      <td>4047</td>\n",
       "      <td>2813</td>\n",
       "      <td>3871</td>\n",
       "      <td>6686</td>\n",
       "    </tr>\n",
       "    <tr>\n",
       "      <th>3</th>\n",
       "      <td>Igq3d6XA75Y</td>\n",
       "      <td>2175</td>\n",
       "      <td>2565</td>\n",
       "      <td>1100</td>\n",
       "      <td>2819</td>\n",
       "      <td>3244</td>\n",
       "    </tr>\n",
       "    <tr>\n",
       "      <th>4</th>\n",
       "      <td>P99qJGrPNLs</td>\n",
       "      <td>8611</td>\n",
       "      <td>11228</td>\n",
       "      <td>7022</td>\n",
       "      <td>10182</td>\n",
       "      <td>17633</td>\n",
       "    </tr>\n",
       "    <tr>\n",
       "      <th>5</th>\n",
       "      <td>Q4ZdkEiYvK0</td>\n",
       "      <td>588</td>\n",
       "      <td>568</td>\n",
       "      <td>332</td>\n",
       "      <td>707</td>\n",
       "      <td>822</td>\n",
       "    </tr>\n",
       "    <tr>\n",
       "      <th>6</th>\n",
       "      <td>SVAryZ0GLwE</td>\n",
       "      <td>526</td>\n",
       "      <td>474</td>\n",
       "      <td>302</td>\n",
       "      <td>551</td>\n",
       "      <td>801</td>\n",
       "    </tr>\n",
       "    <tr>\n",
       "      <th>7</th>\n",
       "      <td>aWbQ5WcB0m4</td>\n",
       "      <td>323</td>\n",
       "      <td>416</td>\n",
       "      <td>227</td>\n",
       "      <td>351</td>\n",
       "      <td>636</td>\n",
       "    </tr>\n",
       "    <tr>\n",
       "      <th>8</th>\n",
       "      <td>aZ_ARLDWK9Y</td>\n",
       "      <td>532</td>\n",
       "      <td>779</td>\n",
       "      <td>377</td>\n",
       "      <td>709</td>\n",
       "      <td>1027</td>\n",
       "    </tr>\n",
       "    <tr>\n",
       "      <th>9</th>\n",
       "      <td>cGmWwFpNIHg</td>\n",
       "      <td>238</td>\n",
       "      <td>385</td>\n",
       "      <td>182</td>\n",
       "      <td>321</td>\n",
       "      <td>515</td>\n",
       "    </tr>\n",
       "    <tr>\n",
       "      <th>10</th>\n",
       "      <td>cgFvZmfjTYc</td>\n",
       "      <td>977</td>\n",
       "      <td>1053</td>\n",
       "      <td>586</td>\n",
       "      <td>1355</td>\n",
       "      <td>1339</td>\n",
       "    </tr>\n",
       "    <tr>\n",
       "      <th>11</th>\n",
       "      <td>dXt1m7gg12c</td>\n",
       "      <td>415</td>\n",
       "      <td>523</td>\n",
       "      <td>265</td>\n",
       "      <td>499</td>\n",
       "      <td>749</td>\n",
       "    </tr>\n",
       "    <tr>\n",
       "      <th>12</th>\n",
       "      <td>j7-qaRs3XxQ</td>\n",
       "      <td>532</td>\n",
       "      <td>579</td>\n",
       "      <td>229</td>\n",
       "      <td>718</td>\n",
       "      <td>644</td>\n",
       "    </tr>\n",
       "    <tr>\n",
       "      <th>13</th>\n",
       "      <td>mrZC1Jcv0dw</td>\n",
       "      <td>1384</td>\n",
       "      <td>1911</td>\n",
       "      <td>832</td>\n",
       "      <td>1911</td>\n",
       "      <td>2352</td>\n",
       "    </tr>\n",
       "    <tr>\n",
       "      <th>14</th>\n",
       "      <td>qIcTM8WXFjk</td>\n",
       "      <td>5988</td>\n",
       "      <td>12927</td>\n",
       "      <td>5461</td>\n",
       "      <td>10275</td>\n",
       "      <td>14802</td>\n",
       "    </tr>\n",
       "    <tr>\n",
       "      <th>15</th>\n",
       "      <td>qU3-4IrZ7tk</td>\n",
       "      <td>270</td>\n",
       "      <td>380</td>\n",
       "      <td>150</td>\n",
       "      <td>430</td>\n",
       "      <td>403</td>\n",
       "    </tr>\n",
       "    <tr>\n",
       "      <th>16</th>\n",
       "      <td>vjF9GgrY9c0</td>\n",
       "      <td>18787</td>\n",
       "      <td>20922</td>\n",
       "      <td>13157</td>\n",
       "      <td>22227</td>\n",
       "      <td>32296</td>\n",
       "    </tr>\n",
       "    <tr>\n",
       "      <th>17</th>\n",
       "      <td>wwr6TlEbiuU</td>\n",
       "      <td>878</td>\n",
       "      <td>1500</td>\n",
       "      <td>637</td>\n",
       "      <td>1190</td>\n",
       "      <td>1941</td>\n",
       "    </tr>\n",
       "    <tr>\n",
       "      <th>18</th>\n",
       "      <td>xYxt7cwDk4E</td>\n",
       "      <td>624</td>\n",
       "      <td>583</td>\n",
       "      <td>426</td>\n",
       "      <td>736</td>\n",
       "      <td>942</td>\n",
       "    </tr>\n",
       "  </tbody>\n",
       "</table>\n",
       "</div>"
      ],
      "text/plain": [
       "        videoId  TextBlob_Positive  TextBlob_Neutral  TextBlob_Negative  \\\n",
       "0   8X2kIfS6fb8               6743             11967               4932   \n",
       "1   AN1RJF55NXI                589               632                274   \n",
       "2   FknHjl7eQ6o               3298              4047               2813   \n",
       "3   Igq3d6XA75Y               2175              2565               1100   \n",
       "4   P99qJGrPNLs               8611             11228               7022   \n",
       "5   Q4ZdkEiYvK0                588               568                332   \n",
       "6   SVAryZ0GLwE                526               474                302   \n",
       "7   aWbQ5WcB0m4                323               416                227   \n",
       "8   aZ_ARLDWK9Y                532               779                377   \n",
       "9   cGmWwFpNIHg                238               385                182   \n",
       "10  cgFvZmfjTYc                977              1053                586   \n",
       "11  dXt1m7gg12c                415               523                265   \n",
       "12  j7-qaRs3XxQ                532               579                229   \n",
       "13  mrZC1Jcv0dw               1384              1911                832   \n",
       "14  qIcTM8WXFjk               5988             12927               5461   \n",
       "15  qU3-4IrZ7tk                270               380                150   \n",
       "16  vjF9GgrY9c0              18787             20922              13157   \n",
       "17  wwr6TlEbiuU                878              1500                637   \n",
       "18  xYxt7cwDk4E                624               583                426   \n",
       "\n",
       "    Flair_Positive  Flair_Negative  \n",
       "0            10806           13757  \n",
       "1              744             790  \n",
       "2             3871            6686  \n",
       "3             2819            3244  \n",
       "4            10182           17633  \n",
       "5              707             822  \n",
       "6              551             801  \n",
       "7              351             636  \n",
       "8              709            1027  \n",
       "9              321             515  \n",
       "10            1355            1339  \n",
       "11             499             749  \n",
       "12             718             644  \n",
       "13            1911            2352  \n",
       "14           10275           14802  \n",
       "15             430             403  \n",
       "16           22227           32296  \n",
       "17            1190            1941  \n",
       "18             736             942  "
      ]
     },
     "execution_count": 152,
     "metadata": {},
     "output_type": "execute_result"
    }
   ],
   "source": [
    "frames"
   ]
  },
  {
   "cell_type": "code",
   "execution_count": 158,
   "metadata": {},
   "outputs": [
    {
     "data": {
      "text/html": [
       "<div>\n",
       "<style scoped>\n",
       "    .dataframe tbody tr th:only-of-type {\n",
       "        vertical-align: middle;\n",
       "    }\n",
       "\n",
       "    .dataframe tbody tr th {\n",
       "        vertical-align: top;\n",
       "    }\n",
       "\n",
       "    .dataframe thead th {\n",
       "        text-align: right;\n",
       "    }\n",
       "</style>\n",
       "<table border=\"1\" class=\"dataframe\">\n",
       "  <thead>\n",
       "    <tr style=\"text-align: right;\">\n",
       "      <th></th>\n",
       "      <th>TextBlob_Positive</th>\n",
       "      <th>TextBlob_Neutral</th>\n",
       "      <th>TextBlob_Negative</th>\n",
       "      <th>Flair_Positive</th>\n",
       "      <th>Flair_Negative</th>\n",
       "      <th>title</th>\n",
       "      <th>viewCount</th>\n",
       "      <th>likeCount</th>\n",
       "      <th>dislikeCount</th>\n",
       "      <th>commentCount</th>\n",
       "      <th>publishedAt</th>\n",
       "    </tr>\n",
       "    <tr>\n",
       "      <th>videoId</th>\n",
       "      <th></th>\n",
       "      <th></th>\n",
       "      <th></th>\n",
       "      <th></th>\n",
       "      <th></th>\n",
       "      <th></th>\n",
       "      <th></th>\n",
       "      <th></th>\n",
       "      <th></th>\n",
       "      <th></th>\n",
       "      <th></th>\n",
       "    </tr>\n",
       "  </thead>\n",
       "  <tbody>\n",
       "    <tr>\n",
       "      <th>cGmWwFpNIHg</th>\n",
       "      <td>238</td>\n",
       "      <td>385</td>\n",
       "      <td>182</td>\n",
       "      <td>321</td>\n",
       "      <td>515</td>\n",
       "      <td>Cyberpunk 2077 title reveal</td>\n",
       "      <td>1128543</td>\n",
       "      <td>18364</td>\n",
       "      <td>227</td>\n",
       "      <td>1622</td>\n",
       "      <td>2012-10-19T08:13:43Z</td>\n",
       "    </tr>\n",
       "    <tr>\n",
       "      <th>P99qJGrPNLs</th>\n",
       "      <td>8611</td>\n",
       "      <td>11228</td>\n",
       "      <td>7022</td>\n",
       "      <td>10182</td>\n",
       "      <td>17633</td>\n",
       "      <td>Cyberpunk 2077 Teaser Trailer</td>\n",
       "      <td>16793930</td>\n",
       "      <td>274059</td>\n",
       "      <td>4852</td>\n",
       "      <td>39153</td>\n",
       "      <td>2013-01-10T20:58:07Z</td>\n",
       "    </tr>\n",
       "  </tbody>\n",
       "</table>\n",
       "</div>"
      ],
      "text/plain": [
       "             TextBlob_Positive  TextBlob_Neutral  TextBlob_Negative  \\\n",
       "videoId                                                               \n",
       "cGmWwFpNIHg                238               385                182   \n",
       "P99qJGrPNLs               8611             11228               7022   \n",
       "\n",
       "             Flair_Positive  Flair_Negative                          title  \\\n",
       "videoId                                                                      \n",
       "cGmWwFpNIHg             321             515    Cyberpunk 2077 title reveal   \n",
       "P99qJGrPNLs           10182           17633  Cyberpunk 2077 Teaser Trailer   \n",
       "\n",
       "             viewCount  likeCount  dislikeCount  commentCount  \\\n",
       "videoId                                                         \n",
       "cGmWwFpNIHg    1128543      18364           227          1622   \n",
       "P99qJGrPNLs   16793930     274059          4852         39153   \n",
       "\n",
       "                      publishedAt  \n",
       "videoId                            \n",
       "cGmWwFpNIHg  2012-10-19T08:13:43Z  \n",
       "P99qJGrPNLs  2013-01-10T20:58:07Z  "
      ]
     },
     "execution_count": 158,
     "metadata": {},
     "output_type": "execute_result"
    }
   ],
   "source": [
    "table = frames.merge(vid_table, left_on='videoId', right_on='videoId').drop(['categoryId', 'channelId', 'description'],\n",
    "                                                                           axis=1).sort_values(['publishedAt']).set_index('videoId')\n",
    "table.head(2)"
   ]
  },
  {
   "cell_type": "code",
   "execution_count": 139,
   "metadata": {
    "scrolled": true
   },
   "outputs": [],
   "source": [
    "for x,y in zip(range())"
   ]
  },
  {
   "cell_type": "code",
   "execution_count": 159,
   "metadata": {},
   "outputs": [],
   "source": [
    "df = pd.read_csv('../data/model_results.csv')"
   ]
  },
  {
   "cell_type": "code",
   "execution_count": 162,
   "metadata": {},
   "outputs": [
    {
     "data": {
      "text/plain": [
       "0    Positive\n",
       "2    Negative\n",
       "Name: Sentiment, dtype: object"
      ]
     },
     "execution_count": 162,
     "metadata": {},
     "output_type": "execute_result"
    }
   ],
   "source": [
    "df['Sentiment'].drop(1)"
   ]
  },
  {
   "cell_type": "code",
   "execution_count": null,
   "metadata": {},
   "outputs": [],
   "source": []
  },
  {
   "cell_type": "code",
   "execution_count": null,
   "metadata": {},
   "outputs": [],
   "source": []
  },
  {
   "cell_type": "code",
   "execution_count": null,
   "metadata": {},
   "outputs": [],
   "source": []
  },
  {
   "cell_type": "markdown",
   "metadata": {},
   "source": [
    "track comment count engagement\n",
    "positive/negative by video\n",
    "like count by video\n"
   ]
  },
  {
   "cell_type": "code",
   "execution_count": null,
   "metadata": {},
   "outputs": [],
   "source": []
  }
 ],
 "metadata": {
  "accelerator": "GPU",
  "colab": {
   "name": "Cyberpunk Sentiment Analysis.ipynb",
   "provenance": []
  },
  "kernelspec": {
   "display_name": "Python [conda env:cyberpunk]",
   "language": "python",
   "name": "conda-env-cyberpunk-py"
  },
  "language_info": {
   "codemirror_mode": {
    "name": "ipython",
    "version": 3
   },
   "file_extension": ".py",
   "mimetype": "text/x-python",
   "name": "python",
   "nbconvert_exporter": "python",
   "pygments_lexer": "ipython3",
   "version": "3.8.3"
  },
  "widgets": {
   "application/vnd.jupyter.widget-state+json": {
    "07f7bbda79f6486e8a720cacdc8a3231": {
     "model_module": "@jupyter-widgets/base",
     "model_name": "LayoutModel",
     "state": {
      "_model_module": "@jupyter-widgets/base",
      "_model_module_version": "1.2.0",
      "_model_name": "LayoutModel",
      "_view_count": null,
      "_view_module": "@jupyter-widgets/base",
      "_view_module_version": "1.2.0",
      "_view_name": "LayoutView",
      "align_content": null,
      "align_items": null,
      "align_self": null,
      "border": null,
      "bottom": null,
      "display": null,
      "flex": null,
      "flex_flow": null,
      "grid_area": null,
      "grid_auto_columns": null,
      "grid_auto_flow": null,
      "grid_auto_rows": null,
      "grid_column": null,
      "grid_gap": null,
      "grid_row": null,
      "grid_template_areas": null,
      "grid_template_columns": null,
      "grid_template_rows": null,
      "height": null,
      "justify_content": null,
      "justify_items": null,
      "left": null,
      "margin": null,
      "max_height": null,
      "max_width": null,
      "min_height": null,
      "min_width": null,
      "object_fit": null,
      "object_position": null,
      "order": null,
      "overflow": null,
      "overflow_x": null,
      "overflow_y": null,
      "padding": null,
      "right": null,
      "top": null,
      "visibility": null,
      "width": null
     }
    },
    "0a923d3eca8f45f493d9fd7fcd9b5d48": {
     "model_module": "@jupyter-widgets/controls",
     "model_name": "HTMLModel",
     "state": {
      "_dom_classes": [],
      "_model_module": "@jupyter-widgets/controls",
      "_model_module_version": "1.5.0",
      "_model_name": "HTMLModel",
      "_view_count": null,
      "_view_module": "@jupyter-widgets/controls",
      "_view_module_version": "1.5.0",
      "_view_name": "HTMLView",
      "description": "",
      "description_tooltip": null,
      "layout": "IPY_MODEL_83607020ce564a5498751231a73e2343",
      "placeholder": "​",
      "style": "IPY_MODEL_147d928b11ff46dab6f9f02bb52dab74",
      "value": " 232k/232k [00:00&lt;00:00, 587kB/s]"
     }
    },
    "147d928b11ff46dab6f9f02bb52dab74": {
     "model_module": "@jupyter-widgets/controls",
     "model_name": "DescriptionStyleModel",
     "state": {
      "_model_module": "@jupyter-widgets/controls",
      "_model_module_version": "1.5.0",
      "_model_name": "DescriptionStyleModel",
      "_view_count": null,
      "_view_module": "@jupyter-widgets/base",
      "_view_module_version": "1.2.0",
      "_view_name": "StyleView",
      "description_width": ""
     }
    },
    "22a0f17b317640c2a2d02f837c4ead2f": {
     "model_module": "@jupyter-widgets/controls",
     "model_name": "DescriptionStyleModel",
     "state": {
      "_model_module": "@jupyter-widgets/controls",
      "_model_module_version": "1.5.0",
      "_model_name": "DescriptionStyleModel",
      "_view_count": null,
      "_view_module": "@jupyter-widgets/base",
      "_view_module_version": "1.2.0",
      "_view_name": "StyleView",
      "description_width": ""
     }
    },
    "3257ddf0e88a475ebd7c1bc640e827bd": {
     "model_module": "@jupyter-widgets/controls",
     "model_name": "HTMLModel",
     "state": {
      "_dom_classes": [],
      "_model_module": "@jupyter-widgets/controls",
      "_model_module_version": "1.5.0",
      "_model_name": "HTMLModel",
      "_view_count": null,
      "_view_module": "@jupyter-widgets/controls",
      "_view_module_version": "1.5.0",
      "_view_name": "HTMLView",
      "description": "",
      "description_tooltip": null,
      "layout": "IPY_MODEL_6d064b4fc0f94c3ea950a954871081db",
      "placeholder": "​",
      "style": "IPY_MODEL_22a0f17b317640c2a2d02f837c4ead2f",
      "value": " 442/442 [00:00&lt;00:00, 505B/s]"
     }
    },
    "33a0c0533b374b98bc1f3520672826d3": {
     "model_module": "@jupyter-widgets/controls",
     "model_name": "HBoxModel",
     "state": {
      "_dom_classes": [],
      "_model_module": "@jupyter-widgets/controls",
      "_model_module_version": "1.5.0",
      "_model_name": "HBoxModel",
      "_view_count": null,
      "_view_module": "@jupyter-widgets/controls",
      "_view_module_version": "1.5.0",
      "_view_name": "HBoxView",
      "box_style": "",
      "children": [
       "IPY_MODEL_7711c0a11d5b40b69bc90e986dda64b8",
       "IPY_MODEL_3257ddf0e88a475ebd7c1bc640e827bd"
      ],
      "layout": "IPY_MODEL_9395387566a44065afa3dd03f795f04c"
     }
    },
    "500cf68a4f214f90a74136c4876c262e": {
     "model_module": "@jupyter-widgets/controls",
     "model_name": "ProgressStyleModel",
     "state": {
      "_model_module": "@jupyter-widgets/controls",
      "_model_module_version": "1.5.0",
      "_model_name": "ProgressStyleModel",
      "_view_count": null,
      "_view_module": "@jupyter-widgets/base",
      "_view_module_version": "1.2.0",
      "_view_name": "StyleView",
      "bar_color": null,
      "description_width": "initial"
     }
    },
    "5672ef77ce6f47b8a4e6267eb4537ae6": {
     "model_module": "@jupyter-widgets/controls",
     "model_name": "ProgressStyleModel",
     "state": {
      "_model_module": "@jupyter-widgets/controls",
      "_model_module_version": "1.5.0",
      "_model_name": "ProgressStyleModel",
      "_view_count": null,
      "_view_module": "@jupyter-widgets/base",
      "_view_module_version": "1.2.0",
      "_view_name": "StyleView",
      "bar_color": null,
      "description_width": "initial"
     }
    },
    "6d064b4fc0f94c3ea950a954871081db": {
     "model_module": "@jupyter-widgets/base",
     "model_name": "LayoutModel",
     "state": {
      "_model_module": "@jupyter-widgets/base",
      "_model_module_version": "1.2.0",
      "_model_name": "LayoutModel",
      "_view_count": null,
      "_view_module": "@jupyter-widgets/base",
      "_view_module_version": "1.2.0",
      "_view_name": "LayoutView",
      "align_content": null,
      "align_items": null,
      "align_self": null,
      "border": null,
      "bottom": null,
      "display": null,
      "flex": null,
      "flex_flow": null,
      "grid_area": null,
      "grid_auto_columns": null,
      "grid_auto_flow": null,
      "grid_auto_rows": null,
      "grid_column": null,
      "grid_gap": null,
      "grid_row": null,
      "grid_template_areas": null,
      "grid_template_columns": null,
      "grid_template_rows": null,
      "height": null,
      "justify_content": null,
      "justify_items": null,
      "left": null,
      "margin": null,
      "max_height": null,
      "max_width": null,
      "min_height": null,
      "min_width": null,
      "object_fit": null,
      "object_position": null,
      "order": null,
      "overflow": null,
      "overflow_x": null,
      "overflow_y": null,
      "padding": null,
      "right": null,
      "top": null,
      "visibility": null,
      "width": null
     }
    },
    "7711c0a11d5b40b69bc90e986dda64b8": {
     "model_module": "@jupyter-widgets/controls",
     "model_name": "FloatProgressModel",
     "state": {
      "_dom_classes": [],
      "_model_module": "@jupyter-widgets/controls",
      "_model_module_version": "1.5.0",
      "_model_name": "FloatProgressModel",
      "_view_count": null,
      "_view_module": "@jupyter-widgets/controls",
      "_view_module_version": "1.5.0",
      "_view_name": "ProgressView",
      "bar_style": "success",
      "description": "Downloading: 100%",
      "description_tooltip": null,
      "layout": "IPY_MODEL_07f7bbda79f6486e8a720cacdc8a3231",
      "max": 442,
      "min": 0,
      "orientation": "horizontal",
      "style": "IPY_MODEL_500cf68a4f214f90a74136c4876c262e",
      "value": 442
     }
    },
    "7a51b7917f0a4c3295fefb683a89d9a9": {
     "model_module": "@jupyter-widgets/base",
     "model_name": "LayoutModel",
     "state": {
      "_model_module": "@jupyter-widgets/base",
      "_model_module_version": "1.2.0",
      "_model_name": "LayoutModel",
      "_view_count": null,
      "_view_module": "@jupyter-widgets/base",
      "_view_module_version": "1.2.0",
      "_view_name": "LayoutView",
      "align_content": null,
      "align_items": null,
      "align_self": null,
      "border": null,
      "bottom": null,
      "display": null,
      "flex": null,
      "flex_flow": null,
      "grid_area": null,
      "grid_auto_columns": null,
      "grid_auto_flow": null,
      "grid_auto_rows": null,
      "grid_column": null,
      "grid_gap": null,
      "grid_row": null,
      "grid_template_areas": null,
      "grid_template_columns": null,
      "grid_template_rows": null,
      "height": null,
      "justify_content": null,
      "justify_items": null,
      "left": null,
      "margin": null,
      "max_height": null,
      "max_width": null,
      "min_height": null,
      "min_width": null,
      "object_fit": null,
      "object_position": null,
      "order": null,
      "overflow": null,
      "overflow_x": null,
      "overflow_y": null,
      "padding": null,
      "right": null,
      "top": null,
      "visibility": null,
      "width": null
     }
    },
    "83607020ce564a5498751231a73e2343": {
     "model_module": "@jupyter-widgets/base",
     "model_name": "LayoutModel",
     "state": {
      "_model_module": "@jupyter-widgets/base",
      "_model_module_version": "1.2.0",
      "_model_name": "LayoutModel",
      "_view_count": null,
      "_view_module": "@jupyter-widgets/base",
      "_view_module_version": "1.2.0",
      "_view_name": "LayoutView",
      "align_content": null,
      "align_items": null,
      "align_self": null,
      "border": null,
      "bottom": null,
      "display": null,
      "flex": null,
      "flex_flow": null,
      "grid_area": null,
      "grid_auto_columns": null,
      "grid_auto_flow": null,
      "grid_auto_rows": null,
      "grid_column": null,
      "grid_gap": null,
      "grid_row": null,
      "grid_template_areas": null,
      "grid_template_columns": null,
      "grid_template_rows": null,
      "height": null,
      "justify_content": null,
      "justify_items": null,
      "left": null,
      "margin": null,
      "max_height": null,
      "max_width": null,
      "min_height": null,
      "min_width": null,
      "object_fit": null,
      "object_position": null,
      "order": null,
      "overflow": null,
      "overflow_x": null,
      "overflow_y": null,
      "padding": null,
      "right": null,
      "top": null,
      "visibility": null,
      "width": null
     }
    },
    "9395387566a44065afa3dd03f795f04c": {
     "model_module": "@jupyter-widgets/base",
     "model_name": "LayoutModel",
     "state": {
      "_model_module": "@jupyter-widgets/base",
      "_model_module_version": "1.2.0",
      "_model_name": "LayoutModel",
      "_view_count": null,
      "_view_module": "@jupyter-widgets/base",
      "_view_module_version": "1.2.0",
      "_view_name": "LayoutView",
      "align_content": null,
      "align_items": null,
      "align_self": null,
      "border": null,
      "bottom": null,
      "display": null,
      "flex": null,
      "flex_flow": null,
      "grid_area": null,
      "grid_auto_columns": null,
      "grid_auto_flow": null,
      "grid_auto_rows": null,
      "grid_column": null,
      "grid_gap": null,
      "grid_row": null,
      "grid_template_areas": null,
      "grid_template_columns": null,
      "grid_template_rows": null,
      "height": null,
      "justify_content": null,
      "justify_items": null,
      "left": null,
      "margin": null,
      "max_height": null,
      "max_width": null,
      "min_height": null,
      "min_width": null,
      "object_fit": null,
      "object_position": null,
      "order": null,
      "overflow": null,
      "overflow_x": null,
      "overflow_y": null,
      "padding": null,
      "right": null,
      "top": null,
      "visibility": null,
      "width": null
     }
    },
    "a740e9e196f04213921a57ad159e724a": {
     "model_module": "@jupyter-widgets/controls",
     "model_name": "FloatProgressModel",
     "state": {
      "_dom_classes": [],
      "_model_module": "@jupyter-widgets/controls",
      "_model_module_version": "1.5.0",
      "_model_name": "FloatProgressModel",
      "_view_count": null,
      "_view_module": "@jupyter-widgets/controls",
      "_view_module_version": "1.5.0",
      "_view_name": "ProgressView",
      "bar_style": "success",
      "description": "Downloading: 100%",
      "description_tooltip": null,
      "layout": "IPY_MODEL_d96120202bf44eb2b77dad145425fe3a",
      "max": 231508,
      "min": 0,
      "orientation": "horizontal",
      "style": "IPY_MODEL_5672ef77ce6f47b8a4e6267eb4537ae6",
      "value": 231508
     }
    },
    "bb36c926198b4ad682ed723329f80459": {
     "model_module": "@jupyter-widgets/controls",
     "model_name": "HBoxModel",
     "state": {
      "_dom_classes": [],
      "_model_module": "@jupyter-widgets/controls",
      "_model_module_version": "1.5.0",
      "_model_name": "HBoxModel",
      "_view_count": null,
      "_view_module": "@jupyter-widgets/controls",
      "_view_module_version": "1.5.0",
      "_view_name": "HBoxView",
      "box_style": "",
      "children": [
       "IPY_MODEL_a740e9e196f04213921a57ad159e724a",
       "IPY_MODEL_0a923d3eca8f45f493d9fd7fcd9b5d48"
      ],
      "layout": "IPY_MODEL_7a51b7917f0a4c3295fefb683a89d9a9"
     }
    },
    "d96120202bf44eb2b77dad145425fe3a": {
     "model_module": "@jupyter-widgets/base",
     "model_name": "LayoutModel",
     "state": {
      "_model_module": "@jupyter-widgets/base",
      "_model_module_version": "1.2.0",
      "_model_name": "LayoutModel",
      "_view_count": null,
      "_view_module": "@jupyter-widgets/base",
      "_view_module_version": "1.2.0",
      "_view_name": "LayoutView",
      "align_content": null,
      "align_items": null,
      "align_self": null,
      "border": null,
      "bottom": null,
      "display": null,
      "flex": null,
      "flex_flow": null,
      "grid_area": null,
      "grid_auto_columns": null,
      "grid_auto_flow": null,
      "grid_auto_rows": null,
      "grid_column": null,
      "grid_gap": null,
      "grid_row": null,
      "grid_template_areas": null,
      "grid_template_columns": null,
      "grid_template_rows": null,
      "height": null,
      "justify_content": null,
      "justify_items": null,
      "left": null,
      "margin": null,
      "max_height": null,
      "max_width": null,
      "min_height": null,
      "min_width": null,
      "object_fit": null,
      "object_position": null,
      "order": null,
      "overflow": null,
      "overflow_x": null,
      "overflow_y": null,
      "padding": null,
      "right": null,
      "top": null,
      "visibility": null,
      "width": null
     }
    }
   }
  }
 },
 "nbformat": 4,
 "nbformat_minor": 4
}
